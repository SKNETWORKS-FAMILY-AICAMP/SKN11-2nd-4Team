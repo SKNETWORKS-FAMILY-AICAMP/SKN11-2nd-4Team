{
 "cells": [
  {
   "cell_type": "code",
   "execution_count": 205,
   "metadata": {},
   "outputs": [],
   "source": [
    "import os\n",
    "import sys\n",
    "import time\n",
    "import numpy as np\n",
    "import pandas as pd\n",
    "import matplotlib.pyplot as plt\n",
    "import seaborn as sns\n",
    "from glob import glob\n",
    "from datetime import datetime, timezone\n",
    "import pytz"
   ]
  },
  {
   "cell_type": "code",
   "execution_count": 206,
   "metadata": {},
   "outputs": [],
   "source": [
    "import matplotlib.pyplot as plt\n",
    "import matplotlib.font_manager as fm\n",
    "\n",
    "plt.rcParams['font.family'] = 'AppleGothic'"
   ]
  },
  {
   "cell_type": "markdown",
   "metadata": {},
   "source": [
    "---"
   ]
  },
  {
   "cell_type": "markdown",
   "metadata": {},
   "source": [
    "# Load Data"
   ]
  },
  {
   "cell_type": "markdown",
   "metadata": {},
   "source": [
    "### player_info"
   ]
  },
  {
   "cell_type": "code",
   "execution_count": 128,
   "metadata": {},
   "outputs": [
    {
     "data": {
      "text/plain": [
       "'/Users/hyeon-yugyeong/skn11-projects/project02/SKN11-2nd-4Team'"
      ]
     },
     "execution_count": 128,
     "metadata": {},
     "output_type": "execute_result"
    }
   ],
   "source": [
    "base_dir = os.path.dirname(os.getcwd()) \n",
    "base_dir"
   ]
  },
  {
   "cell_type": "code",
   "execution_count": 129,
   "metadata": {},
   "outputs": [
    {
     "data": {
      "text/html": [
       "<div>\n",
       "<style scoped>\n",
       "    .dataframe tbody tr th:only-of-type {\n",
       "        vertical-align: middle;\n",
       "    }\n",
       "\n",
       "    .dataframe tbody tr th {\n",
       "        vertical-align: top;\n",
       "    }\n",
       "\n",
       "    .dataframe thead th {\n",
       "        text-align: right;\n",
       "    }\n",
       "</style>\n",
       "<table border=\"1\" class=\"dataframe\">\n",
       "  <thead>\n",
       "    <tr style=\"text-align: right;\">\n",
       "      <th></th>\n",
       "      <th>leagueId</th>\n",
       "      <th>queueType</th>\n",
       "      <th>tier</th>\n",
       "      <th>rank</th>\n",
       "      <th>summonerId</th>\n",
       "      <th>puuid</th>\n",
       "      <th>leaguePoints</th>\n",
       "      <th>wins</th>\n",
       "      <th>losses</th>\n",
       "      <th>veteran</th>\n",
       "      <th>inactive</th>\n",
       "      <th>freshBlood</th>\n",
       "      <th>hotStreak</th>\n",
       "    </tr>\n",
       "  </thead>\n",
       "  <tbody>\n",
       "    <tr>\n",
       "      <th>0</th>\n",
       "      <td>f26c5cb6-bd2d-4200-a242-8df7110fb92d</td>\n",
       "      <td>RANKED_SOLO_5x5</td>\n",
       "      <td>IRON</td>\n",
       "      <td>I</td>\n",
       "      <td>kzfWHgI8V_2cJqjjbTB0yZJbgjQvtFS93SKMqH3YJkrU40Y</td>\n",
       "      <td>8jGtg9MlbzXYQ5Umf4Y7uMqdRMEzmruPsYll-SxwQoFKQG...</td>\n",
       "      <td>12</td>\n",
       "      <td>34</td>\n",
       "      <td>37</td>\n",
       "      <td>False</td>\n",
       "      <td>False</td>\n",
       "      <td>False</td>\n",
       "      <td>False</td>\n",
       "    </tr>\n",
       "    <tr>\n",
       "      <th>1</th>\n",
       "      <td>87c4c731-1aa1-4d2e-8d35-e08030ba8efb</td>\n",
       "      <td>RANKED_SOLO_5x5</td>\n",
       "      <td>IRON</td>\n",
       "      <td>I</td>\n",
       "      <td>UJkCh2bS4YO7C7dm1Yl4IT7EzziLzdO_TW_R6N8j-pUGXe...</td>\n",
       "      <td>ji4uoQKx3SS0YeMtjxqMc_KUJQOMSJFi81zLnyiozVp0sS...</td>\n",
       "      <td>97</td>\n",
       "      <td>3</td>\n",
       "      <td>2</td>\n",
       "      <td>False</td>\n",
       "      <td>False</td>\n",
       "      <td>False</td>\n",
       "      <td>False</td>\n",
       "    </tr>\n",
       "    <tr>\n",
       "      <th>2</th>\n",
       "      <td>d51830f2-4420-4077-a3b2-effaa7105d57</td>\n",
       "      <td>RANKED_SOLO_5x5</td>\n",
       "      <td>IRON</td>\n",
       "      <td>I</td>\n",
       "      <td>Fp6byjg-SRwFMT7PSfbvGwTqrUmLZHZikAsT9RpJ674xu9...</td>\n",
       "      <td>Dr8ib7fv4pemOqJC-uOKTwVR5fz5Y6l7SZ4hIP4bHurqUZ...</td>\n",
       "      <td>25</td>\n",
       "      <td>7</td>\n",
       "      <td>4</td>\n",
       "      <td>False</td>\n",
       "      <td>False</td>\n",
       "      <td>False</td>\n",
       "      <td>False</td>\n",
       "    </tr>\n",
       "    <tr>\n",
       "      <th>3</th>\n",
       "      <td>1df0f655-cf74-4222-8cb7-3e6aef91e83b</td>\n",
       "      <td>RANKED_SOLO_5x5</td>\n",
       "      <td>IRON</td>\n",
       "      <td>I</td>\n",
       "      <td>Bw1lDX9vJrQxNwdg3XYiF73EA7mZ-sxAHyU6gnBG-4qiz_...</td>\n",
       "      <td>H3_TUJhQZkRyzaE12ro9i0hJIkz5RY3qr_s8qiDtwqczwe...</td>\n",
       "      <td>32</td>\n",
       "      <td>10</td>\n",
       "      <td>18</td>\n",
       "      <td>False</td>\n",
       "      <td>False</td>\n",
       "      <td>False</td>\n",
       "      <td>False</td>\n",
       "    </tr>\n",
       "    <tr>\n",
       "      <th>4</th>\n",
       "      <td>640dcade-2e4f-4387-a1bc-e1ca4b13eb0c</td>\n",
       "      <td>RANKED_SOLO_5x5</td>\n",
       "      <td>IRON</td>\n",
       "      <td>I</td>\n",
       "      <td>ZbL41OC4EgevPLDBG4ovAANvDvvyDinVGoPKXRcLCtc5kJ...</td>\n",
       "      <td>U-d8m0EbMQeWnD1IXWRR17TxkwoltApIMEB3jjJRKRYY7E...</td>\n",
       "      <td>80</td>\n",
       "      <td>7</td>\n",
       "      <td>6</td>\n",
       "      <td>False</td>\n",
       "      <td>False</td>\n",
       "      <td>False</td>\n",
       "      <td>True</td>\n",
       "    </tr>\n",
       "  </tbody>\n",
       "</table>\n",
       "</div>"
      ],
      "text/plain": [
       "                               leagueId        queueType  tier rank  \\\n",
       "0  f26c5cb6-bd2d-4200-a242-8df7110fb92d  RANKED_SOLO_5x5  IRON    I   \n",
       "1  87c4c731-1aa1-4d2e-8d35-e08030ba8efb  RANKED_SOLO_5x5  IRON    I   \n",
       "2  d51830f2-4420-4077-a3b2-effaa7105d57  RANKED_SOLO_5x5  IRON    I   \n",
       "3  1df0f655-cf74-4222-8cb7-3e6aef91e83b  RANKED_SOLO_5x5  IRON    I   \n",
       "4  640dcade-2e4f-4387-a1bc-e1ca4b13eb0c  RANKED_SOLO_5x5  IRON    I   \n",
       "\n",
       "                                          summonerId  \\\n",
       "0    kzfWHgI8V_2cJqjjbTB0yZJbgjQvtFS93SKMqH3YJkrU40Y   \n",
       "1  UJkCh2bS4YO7C7dm1Yl4IT7EzziLzdO_TW_R6N8j-pUGXe...   \n",
       "2  Fp6byjg-SRwFMT7PSfbvGwTqrUmLZHZikAsT9RpJ674xu9...   \n",
       "3  Bw1lDX9vJrQxNwdg3XYiF73EA7mZ-sxAHyU6gnBG-4qiz_...   \n",
       "4  ZbL41OC4EgevPLDBG4ovAANvDvvyDinVGoPKXRcLCtc5kJ...   \n",
       "\n",
       "                                               puuid  leaguePoints  wins  \\\n",
       "0  8jGtg9MlbzXYQ5Umf4Y7uMqdRMEzmruPsYll-SxwQoFKQG...            12    34   \n",
       "1  ji4uoQKx3SS0YeMtjxqMc_KUJQOMSJFi81zLnyiozVp0sS...            97     3   \n",
       "2  Dr8ib7fv4pemOqJC-uOKTwVR5fz5Y6l7SZ4hIP4bHurqUZ...            25     7   \n",
       "3  H3_TUJhQZkRyzaE12ro9i0hJIkz5RY3qr_s8qiDtwqczwe...            32    10   \n",
       "4  U-d8m0EbMQeWnD1IXWRR17TxkwoltApIMEB3jjJRKRYY7E...            80     7   \n",
       "\n",
       "   losses  veteran  inactive  freshBlood  hotStreak  \n",
       "0      37    False     False       False      False  \n",
       "1       2    False     False       False      False  \n",
       "2       4    False     False       False      False  \n",
       "3      18    False     False       False      False  \n",
       "4       6    False     False       False       True  "
      ]
     },
     "metadata": {},
     "output_type": "display_data"
    },
    {
     "name": "stdout",
     "output_type": "stream",
     "text": [
      "Player information data count : 231930\n"
     ]
    }
   ],
   "source": [
    "base_dir = os.path.dirname(os.getcwd())  # 현재 폴더의 부모 디렉토리\n",
    "path = os.path.join(base_dir, \"data/reduction_data/*.csv\")\n",
    "file_paths = glob(path)\n",
    "\n",
    "player_info_data = pd.DataFrame()\n",
    "\n",
    "for file in file_paths:\n",
    "    player_info_data = pd.concat([player_info_data, pd.read_csv(file, encoding=\"utf-8\")], axis=0)\n",
    "\n",
    "display(player_info_data.head())\n",
    "print(f\"Player information data count : {len(player_info_data)}\")"
   ]
  },
  {
   "cell_type": "code",
   "execution_count": 130,
   "metadata": {},
   "outputs": [
    {
     "name": "stdout",
     "output_type": "stream",
     "text": [
      "<class 'pandas.core.frame.DataFrame'>\n",
      "Int64Index: 231930 entries, 0 to 69\n",
      "Data columns (total 13 columns):\n",
      " #   Column        Non-Null Count   Dtype \n",
      "---  ------        --------------   ----- \n",
      " 0   leagueId      231930 non-null  object\n",
      " 1   queueType     231930 non-null  object\n",
      " 2   tier          231930 non-null  object\n",
      " 3   rank          231930 non-null  object\n",
      " 4   summonerId    231930 non-null  object\n",
      " 5   puuid         231930 non-null  object\n",
      " 6   leaguePoints  231930 non-null  int64 \n",
      " 7   wins          231930 non-null  int64 \n",
      " 8   losses        231930 non-null  int64 \n",
      " 9   veteran       231930 non-null  bool  \n",
      " 10  inactive      231930 non-null  bool  \n",
      " 11  freshBlood    231930 non-null  bool  \n",
      " 12  hotStreak     231930 non-null  bool  \n",
      "dtypes: bool(4), int64(3), object(6)\n",
      "memory usage: 18.6+ MB\n"
     ]
    }
   ],
   "source": [
    "player_info_data.info()"
   ]
  },
  {
   "cell_type": "code",
   "execution_count": 131,
   "metadata": {},
   "outputs": [
    {
     "data": {
      "image/png": "[encoded data removed]",
      "text/plain": [
       "<Figure size 1440x720 with 1 Axes>"
      ]
     },
     "metadata": {
      "needs_background": "light"
     },
     "output_type": "display_data"
    }
   ],
   "source": [
    "tier_order=['IRON','BRONZE','SILVER','GOLD','PLATINUM','EMERALD','DIAMOND','MASTER','GRANDMASTER','CHALLENGER']\n",
    "\n",
    "plt.figure(figsize=(20,10))\n",
    "ax = sns.countplot(data=player_info_data, x='tier', order=tier_order, hue_order=tier_order)\n",
    "\n",
    "for p in ax.patches:\n",
    "    ax.annotate(f'{int(p.get_height())}', \n",
    "                (p.get_x() + p.get_width() / 2, p.get_height()),  \n",
    "                ha='center', \n",
    "                va='bottom',  \n",
    "                fontsize=10, \n",
    "                color='black')  \n",
    "plt.title('Player Distribution')\n",
    "plt.show()"
   ]
  },
  {
   "cell_type": "code",
   "execution_count": 132,
   "metadata": {},
   "outputs": [
    {
     "data": {
      "text/plain": [
       "29423"
      ]
     },
     "execution_count": 132,
     "metadata": {},
     "output_type": "execute_result"
    }
   ],
   "source": [
    "player_info_data['leagueId'].nunique() # 231930"
   ]
  },
  {
   "cell_type": "code",
   "execution_count": 133,
   "metadata": {},
   "outputs": [
    {
     "data": {
      "image/png": "[encoded data removed]",
      "text/plain": [
       "<Figure size 720x432 with 1 Axes>"
      ]
     },
     "metadata": {
      "needs_background": "light"
     },
     "output_type": "display_data"
    }
   ],
   "source": [
    "veteran_player = player_info_data[player_info_data['veteran']==True]\n",
    "\n",
    "plt.figure(figsize=(10, 6))\n",
    "ax = sns.countplot(data=veteran_player, x='tier')\n",
    "\n",
    "for p in ax.patches:\n",
    "    ax.annotate(f'{int(p.get_height())}', \n",
    "        (p.get_x() + p.get_width() / 2, p.get_height()),  \n",
    "        ha='center', \n",
    "        va='bottom',  \n",
    "        fontsize=10, \n",
    "        color='black') \n",
    "\n",
    "plt.title(\"베테랑 Player의 Tier 분포\")\n",
    "plt.show()"
   ]
  },
  {
   "cell_type": "code",
   "execution_count": 134,
   "metadata": {},
   "outputs": [
    {
     "data": {
      "text/plain": [
       "0     False\n",
       "1     False\n",
       "2     False\n",
       "3     False\n",
       "4     False\n",
       "      ...  \n",
       "65    False\n",
       "66    False\n",
       "67    False\n",
       "68    False\n",
       "69    False\n",
       "Name: veteran, Length: 231930, dtype: bool"
      ]
     },
     "execution_count": 134,
     "metadata": {},
     "output_type": "execute_result"
    }
   ],
   "source": [
    "# veteran==True인 사람의 티어 분포\n",
    "player_veteran = player_info_data['veteran']==True\n",
    "player_veteran"
   ]
  },
  {
   "cell_type": "markdown",
   "metadata": {},
   "source": [
    "### summoner"
   ]
  },
  {
   "cell_type": "code",
   "execution_count": 176,
   "metadata": {},
   "outputs": [
    {
     "data": {
      "text/html": [
       "<div>\n",
       "<style scoped>\n",
       "    .dataframe tbody tr th:only-of-type {\n",
       "        vertical-align: middle;\n",
       "    }\n",
       "\n",
       "    .dataframe tbody tr th {\n",
       "        vertical-align: top;\n",
       "    }\n",
       "\n",
       "    .dataframe thead th {\n",
       "        text-align: right;\n",
       "    }\n",
       "</style>\n",
       "<table border=\"1\" class=\"dataframe\">\n",
       "  <thead>\n",
       "    <tr style=\"text-align: right;\">\n",
       "      <th></th>\n",
       "      <th>id</th>\n",
       "      <th>accountId</th>\n",
       "      <th>puuid</th>\n",
       "      <th>profileIconId</th>\n",
       "      <th>revisionDate</th>\n",
       "      <th>summonerLevel</th>\n",
       "    </tr>\n",
       "  </thead>\n",
       "  <tbody>\n",
       "    <tr>\n",
       "      <th>0</th>\n",
       "      <td>kzfWHgI8V_2cJqjjbTB0yZJbgjQvtFS93SKMqH3YJkrU40Y</td>\n",
       "      <td>icSLs6wHD6MXeiVitcnnkhP-wOAomDL_pmtFMPY5f5ZFpe...</td>\n",
       "      <td>8jGtg9MlbzXYQ5Umf4Y7uMqdRMEzmruPsYll-SxwQoFKQG...</td>\n",
       "      <td>6680</td>\n",
       "      <td>1742720089000</td>\n",
       "      <td>195</td>\n",
       "    </tr>\n",
       "    <tr>\n",
       "      <th>1</th>\n",
       "      <td>UJkCh2bS4YO7C7dm1Yl4IT7EzziLzdO_TW_R6N8j-pUGXe...</td>\n",
       "      <td>WPl57MkrPZy_x60hv4-6D4kNobi7UKzkjPebH_Y_yNcICe...</td>\n",
       "      <td>ji4uoQKx3SS0YeMtjxqMc_KUJQOMSJFi81zLnyiozVp0sS...</td>\n",
       "      <td>6502</td>\n",
       "      <td>1737559985000</td>\n",
       "      <td>41</td>\n",
       "    </tr>\n",
       "    <tr>\n",
       "      <th>2</th>\n",
       "      <td>Fp6byjg-SRwFMT7PSfbvGwTqrUmLZHZikAsT9RpJ674xu9...</td>\n",
       "      <td>Eo33kaonTf9g83OROj6wF4ipeDxS-axJ5h5uTR_KvWwRa3...</td>\n",
       "      <td>Dr8ib7fv4pemOqJC-uOKTwVR5fz5Y6l7SZ4hIP4bHurqUZ...</td>\n",
       "      <td>5950</td>\n",
       "      <td>1742297642000</td>\n",
       "      <td>147</td>\n",
       "    </tr>\n",
       "    <tr>\n",
       "      <th>3</th>\n",
       "      <td>Bw1lDX9vJrQxNwdg3XYiF73EA7mZ-sxAHyU6gnBG-4qiz_...</td>\n",
       "      <td>BnBYfCwSCb0hUPNb9ikaRgsWfgr0RRTdv-2fPmj7aCI_7r...</td>\n",
       "      <td>H3_TUJhQZkRyzaE12ro9i0hJIkz5RY3qr_s8qiDtwqczwe...</td>\n",
       "      <td>3543</td>\n",
       "      <td>1743181417956</td>\n",
       "      <td>123</td>\n",
       "    </tr>\n",
       "    <tr>\n",
       "      <th>4</th>\n",
       "      <td>ZbL41OC4EgevPLDBG4ovAANvDvvyDinVGoPKXRcLCtc5kJ...</td>\n",
       "      <td>X1LJxXc_h1D3opvcb82sSh7MqshyT0em9K3Tauyb5Diw45...</td>\n",
       "      <td>U-d8m0EbMQeWnD1IXWRR17TxkwoltApIMEB3jjJRKRYY7E...</td>\n",
       "      <td>907</td>\n",
       "      <td>1738310268000</td>\n",
       "      <td>31</td>\n",
       "    </tr>\n",
       "  </tbody>\n",
       "</table>\n",
       "</div>"
      ],
      "text/plain": [
       "                                                  id  \\\n",
       "0    kzfWHgI8V_2cJqjjbTB0yZJbgjQvtFS93SKMqH3YJkrU40Y   \n",
       "1  UJkCh2bS4YO7C7dm1Yl4IT7EzziLzdO_TW_R6N8j-pUGXe...   \n",
       "2  Fp6byjg-SRwFMT7PSfbvGwTqrUmLZHZikAsT9RpJ674xu9...   \n",
       "3  Bw1lDX9vJrQxNwdg3XYiF73EA7mZ-sxAHyU6gnBG-4qiz_...   \n",
       "4  ZbL41OC4EgevPLDBG4ovAANvDvvyDinVGoPKXRcLCtc5kJ...   \n",
       "\n",
       "                                           accountId  \\\n",
       "0  icSLs6wHD6MXeiVitcnnkhP-wOAomDL_pmtFMPY5f5ZFpe...   \n",
       "1  WPl57MkrPZy_x60hv4-6D4kNobi7UKzkjPebH_Y_yNcICe...   \n",
       "2  Eo33kaonTf9g83OROj6wF4ipeDxS-axJ5h5uTR_KvWwRa3...   \n",
       "3  BnBYfCwSCb0hUPNb9ikaRgsWfgr0RRTdv-2fPmj7aCI_7r...   \n",
       "4  X1LJxXc_h1D3opvcb82sSh7MqshyT0em9K3Tauyb5Diw45...   \n",
       "\n",
       "                                               puuid  profileIconId  \\\n",
       "0  8jGtg9MlbzXYQ5Umf4Y7uMqdRMEzmruPsYll-SxwQoFKQG...           6680   \n",
       "1  ji4uoQKx3SS0YeMtjxqMc_KUJQOMSJFi81zLnyiozVp0sS...           6502   \n",
       "2  Dr8ib7fv4pemOqJC-uOKTwVR5fz5Y6l7SZ4hIP4bHurqUZ...           5950   \n",
       "3  H3_TUJhQZkRyzaE12ro9i0hJIkz5RY3qr_s8qiDtwqczwe...           3543   \n",
       "4  U-d8m0EbMQeWnD1IXWRR17TxkwoltApIMEB3jjJRKRYY7E...            907   \n",
       "\n",
       "    revisionDate  summonerLevel  \n",
       "0  1742720089000            195  \n",
       "1  1737559985000             41  \n",
       "2  1742297642000            147  \n",
       "3  1743181417956            123  \n",
       "4  1738310268000             31  "
      ]
     },
     "metadata": {},
     "output_type": "display_data"
    },
    {
     "name": "stdout",
     "output_type": "stream",
     "text": [
      "Summoner data count : 231930\n"
     ]
    }
   ],
   "source": [
    "path = os.path.join(os.path.split(os.getcwd())[0], \"data/summoner/*.csv\")\n",
    "file_path = glob(path)\n",
    "\n",
    "summoner_data = pd.DataFrame()\n",
    "\n",
    "for file in file_path:\n",
    "    summoner_data = pd.concat([summoner_data, pd.read_csv(file, encoding=\"utf-8\")], axis=0)\n",
    "\n",
    "display(summoner_data.head())\n",
    "print(f\"Summoner data count : {len(summoner_data.index)}\")"
   ]
  },
  {
   "cell_type": "code",
   "execution_count": 177,
   "metadata": {},
   "outputs": [
    {
     "name": "stdout",
     "output_type": "stream",
     "text": [
      "<class 'pandas.core.frame.DataFrame'>\n",
      "Int64Index: 231930 entries, 0 to 33\n",
      "Data columns (total 6 columns):\n",
      " #   Column         Non-Null Count   Dtype \n",
      "---  ------         --------------   ----- \n",
      " 0   id             231930 non-null  object\n",
      " 1   accountId      231930 non-null  object\n",
      " 2   puuid          231930 non-null  object\n",
      " 3   profileIconId  231930 non-null  int64 \n",
      " 4   revisionDate   231930 non-null  int64 \n",
      " 5   summonerLevel  231930 non-null  int64 \n",
      "dtypes: int64(3), object(3)\n",
      "memory usage: 12.4+ MB\n"
     ]
    }
   ],
   "source": [
    "summoner_data.info()"
   ]
  },
  {
   "cell_type": "code",
   "execution_count": 178,
   "metadata": {},
   "outputs": [
    {
     "data": {
      "text/html": [
       "<div>\n",
       "<style scoped>\n",
       "    .dataframe tbody tr th:only-of-type {\n",
       "        vertical-align: middle;\n",
       "    }\n",
       "\n",
       "    .dataframe tbody tr th {\n",
       "        vertical-align: top;\n",
       "    }\n",
       "\n",
       "    .dataframe thead th {\n",
       "        text-align: right;\n",
       "    }\n",
       "</style>\n",
       "<table border=\"1\" class=\"dataframe\">\n",
       "  <thead>\n",
       "    <tr style=\"text-align: right;\">\n",
       "      <th></th>\n",
       "      <th>leagueId</th>\n",
       "      <th>queueType</th>\n",
       "      <th>tier</th>\n",
       "      <th>rank</th>\n",
       "      <th>summonerId</th>\n",
       "      <th>puuid</th>\n",
       "      <th>leaguePoints</th>\n",
       "      <th>wins</th>\n",
       "      <th>losses</th>\n",
       "      <th>veteran</th>\n",
       "      <th>inactive</th>\n",
       "      <th>freshBlood</th>\n",
       "      <th>hotStreak</th>\n",
       "      <th>id</th>\n",
       "      <th>accountId</th>\n",
       "      <th>profileIconId</th>\n",
       "      <th>revisionDate</th>\n",
       "      <th>summonerLevel</th>\n",
       "    </tr>\n",
       "  </thead>\n",
       "  <tbody>\n",
       "    <tr>\n",
       "      <th>0</th>\n",
       "      <td>f26c5cb6-bd2d-4200-a242-8df7110fb92d</td>\n",
       "      <td>RANKED_SOLO_5x5</td>\n",
       "      <td>IRON</td>\n",
       "      <td>I</td>\n",
       "      <td>kzfWHgI8V_2cJqjjbTB0yZJbgjQvtFS93SKMqH3YJkrU40Y</td>\n",
       "      <td>8jGtg9MlbzXYQ5Umf4Y7uMqdRMEzmruPsYll-SxwQoFKQG...</td>\n",
       "      <td>12</td>\n",
       "      <td>34</td>\n",
       "      <td>37</td>\n",
       "      <td>False</td>\n",
       "      <td>False</td>\n",
       "      <td>False</td>\n",
       "      <td>False</td>\n",
       "      <td>kzfWHgI8V_2cJqjjbTB0yZJbgjQvtFS93SKMqH3YJkrU40Y</td>\n",
       "      <td>icSLs6wHD6MXeiVitcnnkhP-wOAomDL_pmtFMPY5f5ZFpe...</td>\n",
       "      <td>6680</td>\n",
       "      <td>1742720089000</td>\n",
       "      <td>195</td>\n",
       "    </tr>\n",
       "    <tr>\n",
       "      <th>1</th>\n",
       "      <td>87c4c731-1aa1-4d2e-8d35-e08030ba8efb</td>\n",
       "      <td>RANKED_SOLO_5x5</td>\n",
       "      <td>IRON</td>\n",
       "      <td>I</td>\n",
       "      <td>UJkCh2bS4YO7C7dm1Yl4IT7EzziLzdO_TW_R6N8j-pUGXe...</td>\n",
       "      <td>ji4uoQKx3SS0YeMtjxqMc_KUJQOMSJFi81zLnyiozVp0sS...</td>\n",
       "      <td>97</td>\n",
       "      <td>3</td>\n",
       "      <td>2</td>\n",
       "      <td>False</td>\n",
       "      <td>False</td>\n",
       "      <td>False</td>\n",
       "      <td>False</td>\n",
       "      <td>UJkCh2bS4YO7C7dm1Yl4IT7EzziLzdO_TW_R6N8j-pUGXe...</td>\n",
       "      <td>WPl57MkrPZy_x60hv4-6D4kNobi7UKzkjPebH_Y_yNcICe...</td>\n",
       "      <td>6502</td>\n",
       "      <td>1737559985000</td>\n",
       "      <td>41</td>\n",
       "    </tr>\n",
       "    <tr>\n",
       "      <th>2</th>\n",
       "      <td>d51830f2-4420-4077-a3b2-effaa7105d57</td>\n",
       "      <td>RANKED_SOLO_5x5</td>\n",
       "      <td>IRON</td>\n",
       "      <td>I</td>\n",
       "      <td>Fp6byjg-SRwFMT7PSfbvGwTqrUmLZHZikAsT9RpJ674xu9...</td>\n",
       "      <td>Dr8ib7fv4pemOqJC-uOKTwVR5fz5Y6l7SZ4hIP4bHurqUZ...</td>\n",
       "      <td>25</td>\n",
       "      <td>7</td>\n",
       "      <td>4</td>\n",
       "      <td>False</td>\n",
       "      <td>False</td>\n",
       "      <td>False</td>\n",
       "      <td>False</td>\n",
       "      <td>Fp6byjg-SRwFMT7PSfbvGwTqrUmLZHZikAsT9RpJ674xu9...</td>\n",
       "      <td>Eo33kaonTf9g83OROj6wF4ipeDxS-axJ5h5uTR_KvWwRa3...</td>\n",
       "      <td>5950</td>\n",
       "      <td>1742297642000</td>\n",
       "      <td>147</td>\n",
       "    </tr>\n",
       "    <tr>\n",
       "      <th>3</th>\n",
       "      <td>1df0f655-cf74-4222-8cb7-3e6aef91e83b</td>\n",
       "      <td>RANKED_SOLO_5x5</td>\n",
       "      <td>IRON</td>\n",
       "      <td>I</td>\n",
       "      <td>Bw1lDX9vJrQxNwdg3XYiF73EA7mZ-sxAHyU6gnBG-4qiz_...</td>\n",
       "      <td>H3_TUJhQZkRyzaE12ro9i0hJIkz5RY3qr_s8qiDtwqczwe...</td>\n",
       "      <td>32</td>\n",
       "      <td>10</td>\n",
       "      <td>18</td>\n",
       "      <td>False</td>\n",
       "      <td>False</td>\n",
       "      <td>False</td>\n",
       "      <td>False</td>\n",
       "      <td>Bw1lDX9vJrQxNwdg3XYiF73EA7mZ-sxAHyU6gnBG-4qiz_...</td>\n",
       "      <td>BnBYfCwSCb0hUPNb9ikaRgsWfgr0RRTdv-2fPmj7aCI_7r...</td>\n",
       "      <td>3543</td>\n",
       "      <td>1743181417956</td>\n",
       "      <td>123</td>\n",
       "    </tr>\n",
       "    <tr>\n",
       "      <th>4</th>\n",
       "      <td>640dcade-2e4f-4387-a1bc-e1ca4b13eb0c</td>\n",
       "      <td>RANKED_SOLO_5x5</td>\n",
       "      <td>IRON</td>\n",
       "      <td>I</td>\n",
       "      <td>ZbL41OC4EgevPLDBG4ovAANvDvvyDinVGoPKXRcLCtc5kJ...</td>\n",
       "      <td>U-d8m0EbMQeWnD1IXWRR17TxkwoltApIMEB3jjJRKRYY7E...</td>\n",
       "      <td>80</td>\n",
       "      <td>7</td>\n",
       "      <td>6</td>\n",
       "      <td>False</td>\n",
       "      <td>False</td>\n",
       "      <td>False</td>\n",
       "      <td>True</td>\n",
       "      <td>ZbL41OC4EgevPLDBG4ovAANvDvvyDinVGoPKXRcLCtc5kJ...</td>\n",
       "      <td>X1LJxXc_h1D3opvcb82sSh7MqshyT0em9K3Tauyb5Diw45...</td>\n",
       "      <td>907</td>\n",
       "      <td>1738310268000</td>\n",
       "      <td>31</td>\n",
       "    </tr>\n",
       "  </tbody>\n",
       "</table>\n",
       "</div>"
      ],
      "text/plain": [
       "                               leagueId        queueType  tier rank  \\\n",
       "0  f26c5cb6-bd2d-4200-a242-8df7110fb92d  RANKED_SOLO_5x5  IRON    I   \n",
       "1  87c4c731-1aa1-4d2e-8d35-e08030ba8efb  RANKED_SOLO_5x5  IRON    I   \n",
       "2  d51830f2-4420-4077-a3b2-effaa7105d57  RANKED_SOLO_5x5  IRON    I   \n",
       "3  1df0f655-cf74-4222-8cb7-3e6aef91e83b  RANKED_SOLO_5x5  IRON    I   \n",
       "4  640dcade-2e4f-4387-a1bc-e1ca4b13eb0c  RANKED_SOLO_5x5  IRON    I   \n",
       "\n",
       "                                          summonerId  \\\n",
       "0    kzfWHgI8V_2cJqjjbTB0yZJbgjQvtFS93SKMqH3YJkrU40Y   \n",
       "1  UJkCh2bS4YO7C7dm1Yl4IT7EzziLzdO_TW_R6N8j-pUGXe...   \n",
       "2  Fp6byjg-SRwFMT7PSfbvGwTqrUmLZHZikAsT9RpJ674xu9...   \n",
       "3  Bw1lDX9vJrQxNwdg3XYiF73EA7mZ-sxAHyU6gnBG-4qiz_...   \n",
       "4  ZbL41OC4EgevPLDBG4ovAANvDvvyDinVGoPKXRcLCtc5kJ...   \n",
       "\n",
       "                                               puuid  leaguePoints  wins  \\\n",
       "0  8jGtg9MlbzXYQ5Umf4Y7uMqdRMEzmruPsYll-SxwQoFKQG...            12    34   \n",
       "1  ji4uoQKx3SS0YeMtjxqMc_KUJQOMSJFi81zLnyiozVp0sS...            97     3   \n",
       "2  Dr8ib7fv4pemOqJC-uOKTwVR5fz5Y6l7SZ4hIP4bHurqUZ...            25     7   \n",
       "3  H3_TUJhQZkRyzaE12ro9i0hJIkz5RY3qr_s8qiDtwqczwe...            32    10   \n",
       "4  U-d8m0EbMQeWnD1IXWRR17TxkwoltApIMEB3jjJRKRYY7E...            80     7   \n",
       "\n",
       "   losses  veteran  inactive  freshBlood  hotStreak  \\\n",
       "0      37    False     False       False      False   \n",
       "1       2    False     False       False      False   \n",
       "2       4    False     False       False      False   \n",
       "3      18    False     False       False      False   \n",
       "4       6    False     False       False       True   \n",
       "\n",
       "                                                  id  \\\n",
       "0    kzfWHgI8V_2cJqjjbTB0yZJbgjQvtFS93SKMqH3YJkrU40Y   \n",
       "1  UJkCh2bS4YO7C7dm1Yl4IT7EzziLzdO_TW_R6N8j-pUGXe...   \n",
       "2  Fp6byjg-SRwFMT7PSfbvGwTqrUmLZHZikAsT9RpJ674xu9...   \n",
       "3  Bw1lDX9vJrQxNwdg3XYiF73EA7mZ-sxAHyU6gnBG-4qiz_...   \n",
       "4  ZbL41OC4EgevPLDBG4ovAANvDvvyDinVGoPKXRcLCtc5kJ...   \n",
       "\n",
       "                                           accountId  profileIconId  \\\n",
       "0  icSLs6wHD6MXeiVitcnnkhP-wOAomDL_pmtFMPY5f5ZFpe...           6680   \n",
       "1  WPl57MkrPZy_x60hv4-6D4kNobi7UKzkjPebH_Y_yNcICe...           6502   \n",
       "2  Eo33kaonTf9g83OROj6wF4ipeDxS-axJ5h5uTR_KvWwRa3...           5950   \n",
       "3  BnBYfCwSCb0hUPNb9ikaRgsWfgr0RRTdv-2fPmj7aCI_7r...           3543   \n",
       "4  X1LJxXc_h1D3opvcb82sSh7MqshyT0em9K3Tauyb5Diw45...            907   \n",
       "\n",
       "    revisionDate  summonerLevel  \n",
       "0  1742720089000            195  \n",
       "1  1737559985000             41  \n",
       "2  1742297642000            147  \n",
       "3  1743181417956            123  \n",
       "4  1738310268000             31  "
      ]
     },
     "execution_count": 178,
     "metadata": {},
     "output_type": "execute_result"
    }
   ],
   "source": [
    "summoner_data = pd.merge(player_info_data, summoner_data, how=\"outer\", on=\"puuid\")\n",
    "summoner_data.head()"
   ]
  },
  {
   "cell_type": "markdown",
   "metadata": {},
   "source": [
    "##### 중복 데이터 확인하기"
   ]
  },
  {
   "cell_type": "code",
   "execution_count": 179,
   "metadata": {},
   "outputs": [
    {
     "data": {
      "image/png": "[encoded data removed]",
      "text/plain": [
       "<Figure size 1440x720 with 1 Axes>"
      ]
     },
     "metadata": {
      "needs_background": "light"
     },
     "output_type": "display_data"
    }
   ],
   "source": [
    "duplicated_summoners = summoner_data[summoner_data.duplicated(subset='summonerId', keep=False)]\n",
    "\n",
    "plt.figure(figsize=(20,10))\n",
    "ax = sns.countplot(data=duplicated_summoners, x='tier')\n",
    "\n",
    "result = 0\n",
    "for p in ax.patches:\n",
    "    result += int(p.get_height())\n",
    "    ax.annotate(f'{int(p.get_height())}', \n",
    "                (p.get_x() + p.get_width() / 2, p.get_height()),  \n",
    "                ha='center', \n",
    "                va='bottom',  \n",
    "                fontsize=10, \n",
    "                color='black')  \n",
    "plt.title(f'{result}')\n",
    "plt.show()"
   ]
  },
  {
   "cell_type": "code",
   "execution_count": 180,
   "metadata": {},
   "outputs": [
    {
     "name": "stdout",
     "output_type": "stream",
     "text": [
      "<class 'pandas.core.frame.DataFrame'>\n",
      "Int64Index: 233042 entries, 0 to 233041\n",
      "Data columns (total 18 columns):\n",
      " #   Column         Non-Null Count   Dtype \n",
      "---  ------         --------------   ----- \n",
      " 0   leagueId       233042 non-null  object\n",
      " 1   queueType      233042 non-null  object\n",
      " 2   tier           233042 non-null  object\n",
      " 3   rank           233042 non-null  object\n",
      " 4   summonerId     233042 non-null  object\n",
      " 5   puuid          233042 non-null  object\n",
      " 6   leaguePoints   233042 non-null  int64 \n",
      " 7   wins           233042 non-null  int64 \n",
      " 8   losses         233042 non-null  int64 \n",
      " 9   veteran        233042 non-null  bool  \n",
      " 10  inactive       233042 non-null  bool  \n",
      " 11  freshBlood     233042 non-null  bool  \n",
      " 12  hotStreak      233042 non-null  bool  \n",
      " 13  id             233042 non-null  object\n",
      " 14  accountId      233042 non-null  object\n",
      " 15  profileIconId  233042 non-null  int64 \n",
      " 16  revisionDate   233042 non-null  int64 \n",
      " 17  summonerLevel  233042 non-null  int64 \n",
      "dtypes: bool(4), int64(6), object(8)\n",
      "memory usage: 27.6+ MB\n"
     ]
    }
   ],
   "source": [
    "summoner_data.info()"
   ]
  },
  {
   "cell_type": "markdown",
   "metadata": {},
   "source": [
    "##### na 데이터 drop하기"
   ]
  },
  {
   "cell_type": "code",
   "execution_count": 181,
   "metadata": {},
   "outputs": [
    {
     "data": {
      "text/plain": [
       "0"
      ]
     },
     "execution_count": 181,
     "metadata": {},
     "output_type": "execute_result"
    }
   ],
   "source": [
    "summoner_data['revisionDate'].isna().sum()"
   ]
  },
  {
   "cell_type": "code",
   "execution_count": 184,
   "metadata": {},
   "outputs": [],
   "source": [
    "summoner_data = summoner_data.dropna()"
   ]
  },
  {
   "cell_type": "code",
   "execution_count": 185,
   "metadata": {},
   "outputs": [
    {
     "name": "stdout",
     "output_type": "stream",
     "text": [
      "<class 'pandas.core.frame.DataFrame'>\n",
      "Int64Index: 233042 entries, 0 to 233041\n",
      "Data columns (total 18 columns):\n",
      " #   Column         Non-Null Count   Dtype \n",
      "---  ------         --------------   ----- \n",
      " 0   leagueId       233042 non-null  object\n",
      " 1   queueType      233042 non-null  object\n",
      " 2   tier           233042 non-null  object\n",
      " 3   rank           233042 non-null  object\n",
      " 4   summonerId     233042 non-null  object\n",
      " 5   puuid          233042 non-null  object\n",
      " 6   leaguePoints   233042 non-null  int64 \n",
      " 7   wins           233042 non-null  int64 \n",
      " 8   losses         233042 non-null  int64 \n",
      " 9   veteran        233042 non-null  bool  \n",
      " 10  inactive       233042 non-null  bool  \n",
      " 11  freshBlood     233042 non-null  bool  \n",
      " 12  hotStreak      233042 non-null  bool  \n",
      " 13  id             233042 non-null  object\n",
      " 14  accountId      233042 non-null  object\n",
      " 15  profileIconId  233042 non-null  int64 \n",
      " 16  revisionDate   233042 non-null  int64 \n",
      " 17  summonerLevel  233042 non-null  int64 \n",
      "dtypes: bool(4), int64(6), object(8)\n",
      "memory usage: 27.6+ MB\n"
     ]
    }
   ],
   "source": [
    "# dropna 후\n",
    "summoner_data.info()"
   ]
  },
  {
   "cell_type": "markdown",
   "metadata": {},
   "source": [
    "##### 중복 데이터 drop_duplicates"
   ]
  },
  {
   "cell_type": "code",
   "execution_count": 186,
   "metadata": {},
   "outputs": [],
   "source": [
    "summoner_data = summoner_data.drop_duplicates()"
   ]
  },
  {
   "cell_type": "code",
   "execution_count": 187,
   "metadata": {},
   "outputs": [
    {
     "name": "stdout",
     "output_type": "stream",
     "text": [
      "<class 'pandas.core.frame.DataFrame'>\n",
      "Int64Index: 231412 entries, 0 to 233041\n",
      "Data columns (total 18 columns):\n",
      " #   Column         Non-Null Count   Dtype \n",
      "---  ------         --------------   ----- \n",
      " 0   leagueId       231412 non-null  object\n",
      " 1   queueType      231412 non-null  object\n",
      " 2   tier           231412 non-null  object\n",
      " 3   rank           231412 non-null  object\n",
      " 4   summonerId     231412 non-null  object\n",
      " 5   puuid          231412 non-null  object\n",
      " 6   leaguePoints   231412 non-null  int64 \n",
      " 7   wins           231412 non-null  int64 \n",
      " 8   losses         231412 non-null  int64 \n",
      " 9   veteran        231412 non-null  bool  \n",
      " 10  inactive       231412 non-null  bool  \n",
      " 11  freshBlood     231412 non-null  bool  \n",
      " 12  hotStreak      231412 non-null  bool  \n",
      " 13  id             231412 non-null  object\n",
      " 14  accountId      231412 non-null  object\n",
      " 15  profileIconId  231412 non-null  int64 \n",
      " 16  revisionDate   231412 non-null  int64 \n",
      " 17  summonerLevel  231412 non-null  int64 \n",
      "dtypes: bool(4), int64(6), object(8)\n",
      "memory usage: 27.4+ MB\n"
     ]
    }
   ],
   "source": [
    "summoner_data.info()"
   ]
  },
  {
   "cell_type": "code",
   "execution_count": 189,
   "metadata": {},
   "outputs": [
    {
     "data": {
      "text/plain": [
       "leagueId         0\n",
       "queueType        0\n",
       "tier             0\n",
       "rank             0\n",
       "summonerId       0\n",
       "puuid            0\n",
       "leaguePoints     0\n",
       "wins             0\n",
       "losses           0\n",
       "veteran          0\n",
       "inactive         0\n",
       "freshBlood       0\n",
       "hotStreak        0\n",
       "id               0\n",
       "accountId        0\n",
       "profileIconId    0\n",
       "revisionDate     0\n",
       "summonerLevel    0\n",
       "dtype: int64"
      ]
     },
     "execution_count": 189,
     "metadata": {},
     "output_type": "execute_result"
    }
   ],
   "source": [
    "summoner_data.isna().sum()"
   ]
  },
  {
   "cell_type": "code",
   "execution_count": 199,
   "metadata": {},
   "outputs": [
    {
     "name": "stdout",
     "output_type": "stream",
     "text": [
      "<class 'pandas.core.frame.DataFrame'>\n",
      "Int64Index: 0 entries\n",
      "Data columns (total 18 columns):\n",
      " #   Column         Non-Null Count  Dtype \n",
      "---  ------         --------------  ----- \n",
      " 0   leagueId       0 non-null      object\n",
      " 1   queueType      0 non-null      object\n",
      " 2   tier           0 non-null      object\n",
      " 3   rank           0 non-null      object\n",
      " 4   summonerId     0 non-null      object\n",
      " 5   puuid          0 non-null      object\n",
      " 6   leaguePoints   0 non-null      int64 \n",
      " 7   wins           0 non-null      int64 \n",
      " 8   losses         0 non-null      int64 \n",
      " 9   veteran        0 non-null      bool  \n",
      " 10  inactive       0 non-null      bool  \n",
      " 11  freshBlood     0 non-null      bool  \n",
      " 12  hotStreak      0 non-null      bool  \n",
      " 13  id             0 non-null      object\n",
      " 14  accountId      0 non-null      object\n",
      " 15  profileIconId  0 non-null      int64 \n",
      " 16  revisionDate   0 non-null      int64 \n",
      " 17  summonerLevel  0 non-null      int64 \n",
      "dtypes: bool(4), int64(6), object(8)\n",
      "memory usage: 0.0+ bytes\n"
     ]
    }
   ],
   "source": [
    "df = summoner_data[summoner_data['tier']=='SILVER']\n",
    "v = df[df['veteran']==True]\n",
    "v.info()"
   ]
  },
  {
   "cell_type": "markdown",
   "metadata": {},
   "source": [
    "----"
   ]
  },
  {
   "cell_type": "markdown",
   "metadata": {},
   "source": [
    "# 기존 데이터셋 시각화"
   ]
  },
  {
   "cell_type": "code",
   "execution_count": 242,
   "metadata": {},
   "outputs": [
    {
     "name": "stdout",
     "output_type": "stream",
     "text": [
      "<class 'pandas.core.frame.DataFrame'>\n",
      "Int64Index: 2319285 entries, 0 to 459922\n",
      "Data columns (total 13 columns):\n",
      " #   Column        Dtype \n",
      "---  ------        ----- \n",
      " 0   leagueId      object\n",
      " 1   queueType     object\n",
      " 2   tier          object\n",
      " 3   rank          object\n",
      " 4   summonerId    object\n",
      " 5   puuid         object\n",
      " 6   leaguePoints  int64 \n",
      " 7   wins          int64 \n",
      " 8   losses        int64 \n",
      " 9   veteran       bool  \n",
      " 10  inactive      bool  \n",
      " 11  freshBlood    bool  \n",
      " 12  hotStreak     bool  \n",
      "dtypes: bool(4), int64(3), object(6)\n",
      "memory usage: 185.8+ MB\n"
     ]
    }
   ],
   "source": [
    "original_df = pd.concat([pd.read_csv('../data/player_info/bg_player_info.csv'), \\\n",
    "    pd.read_csv('../data/player_info/gd_player_info.csv'), pd.read_csv('../data/player_info/ic_player_info.csv'), \\\n",
    "    pd.read_csv('../data/player_info/pe_player_info.csv'), pd.read_csv('../data/player_info/sm_player_info.csv')], axis=0)\n",
    "original_df.info()"
   ]
  },
  {
   "cell_type": "code",
   "execution_count": 243,
   "metadata": {},
   "outputs": [
    {
     "data": {
      "text/plain": [
       "2319285"
      ]
     },
     "execution_count": 243,
     "metadata": {},
     "output_type": "execute_result"
    }
   ],
   "source": [
    "len(original_df)"
   ]
  },
  {
   "cell_type": "code",
   "execution_count": 245,
   "metadata": {},
   "outputs": [
    {
     "data": {
      "image/png": "[encoded data removed]",
      "text/plain": [
       "<Figure size 1080x432 with 1 Axes>"
      ]
     },
     "metadata": {
      "needs_background": "light"
     },
     "output_type": "display_data"
    }
   ],
   "source": [
    "tier_order=['IRON','BRONZE','SILVER','GOLD','PLATINUM','EMERALD','DIAMOND','MASTER','GRANDMASTER','CHALLENGER']\n",
    "\n",
    "plt.figure(figsize=(15,6))\n",
    "sns.set_palette(\"pastel\")\n",
    "ax = sns.countplot(data=original_df, x='tier', order=tier_order, hue_order=tier_order)\n",
    "\n",
    "for p in ax.patches:\n",
    "    ax.annotate(f'{int(p.get_height())}', \n",
    "                (p.get_x() + p.get_width() / 2, p.get_height()),  \n",
    "                ha='center', \n",
    "                va='bottom',  \n",
    "                fontsize=10, \n",
    "                color='black')  \n",
    "\n",
    "plt.title('Player 분포')\n",
    "plt.show()"
   ]
  },
  {
   "cell_type": "markdown",
   "metadata": {},
   "source": [
    "---"
   ]
  },
  {
   "cell_type": "markdown",
   "metadata": {},
   "source": [
    "# 1차 전처리된 데이터로 시각화"
   ]
  },
  {
   "cell_type": "code",
   "execution_count": 258,
   "metadata": {},
   "outputs": [
    {
     "name": "stdout",
     "output_type": "stream",
     "text": [
      "<class 'pandas.core.frame.DataFrame'>\n",
      "RangeIndex: 233042 entries, 0 to 233041\n",
      "Data columns (total 11 columns):\n",
      " #   Column         Non-Null Count   Dtype \n",
      "---  ------         --------------   ----- \n",
      " 0   tier           233042 non-null  object\n",
      " 1   rank           233042 non-null  object\n",
      " 2   wins           233042 non-null  int64 \n",
      " 3   losses         233042 non-null  int64 \n",
      " 4   veteran        233042 non-null  bool  \n",
      " 5   inactive       233042 non-null  bool  \n",
      " 6   freshBlood     233042 non-null  bool  \n",
      " 7   hotStreak      233042 non-null  bool  \n",
      " 8   revisionDate   233042 non-null  int64 \n",
      " 9   summonerLevel  233042 non-null  int64 \n",
      " 10  churn          233042 non-null  int64 \n",
      "dtypes: bool(4), int64(5), object(2)\n",
      "memory usage: 13.3+ MB\n"
     ]
    }
   ],
   "source": [
    "df = pd.read_csv('../data/drop_data.csv')\n",
    "df.info()"
   ]
  },
  {
   "cell_type": "code",
   "execution_count": 259,
   "metadata": {},
   "outputs": [
    {
     "data": {
      "text/html": [
       "<div>\n",
       "<style scoped>\n",
       "    .dataframe tbody tr th:only-of-type {\n",
       "        vertical-align: middle;\n",
       "    }\n",
       "\n",
       "    .dataframe tbody tr th {\n",
       "        vertical-align: top;\n",
       "    }\n",
       "\n",
       "    .dataframe thead th {\n",
       "        text-align: right;\n",
       "    }\n",
       "</style>\n",
       "<table border=\"1\" class=\"dataframe\">\n",
       "  <thead>\n",
       "    <tr style=\"text-align: right;\">\n",
       "      <th></th>\n",
       "      <th>tier</th>\n",
       "      <th>rank</th>\n",
       "      <th>wins</th>\n",
       "      <th>losses</th>\n",
       "      <th>veteran</th>\n",
       "      <th>inactive</th>\n",
       "      <th>freshBlood</th>\n",
       "      <th>hotStreak</th>\n",
       "      <th>revisionDate</th>\n",
       "      <th>summonerLevel</th>\n",
       "      <th>churn</th>\n",
       "    </tr>\n",
       "  </thead>\n",
       "  <tbody>\n",
       "    <tr>\n",
       "      <th>231406</th>\n",
       "      <td>IRON</td>\n",
       "      <td>I</td>\n",
       "      <td>15</td>\n",
       "      <td>16</td>\n",
       "      <td>False</td>\n",
       "      <td>False</td>\n",
       "      <td>False</td>\n",
       "      <td>False</td>\n",
       "      <td>1743185135546</td>\n",
       "      <td>67</td>\n",
       "      <td>0</td>\n",
       "    </tr>\n",
       "    <tr>\n",
       "      <th>231407</th>\n",
       "      <td>SILVER</td>\n",
       "      <td>III</td>\n",
       "      <td>7</td>\n",
       "      <td>16</td>\n",
       "      <td>False</td>\n",
       "      <td>False</td>\n",
       "      <td>False</td>\n",
       "      <td>False</td>\n",
       "      <td>1741963269000</td>\n",
       "      <td>137</td>\n",
       "      <td>0</td>\n",
       "    </tr>\n",
       "    <tr>\n",
       "      <th>231408</th>\n",
       "      <td>IRON</td>\n",
       "      <td>II</td>\n",
       "      <td>6</td>\n",
       "      <td>7</td>\n",
       "      <td>False</td>\n",
       "      <td>False</td>\n",
       "      <td>False</td>\n",
       "      <td>False</td>\n",
       "      <td>1739599632000</td>\n",
       "      <td>165</td>\n",
       "      <td>1</td>\n",
       "    </tr>\n",
       "    <tr>\n",
       "      <th>231409</th>\n",
       "      <td>SILVER</td>\n",
       "      <td>I</td>\n",
       "      <td>3</td>\n",
       "      <td>8</td>\n",
       "      <td>False</td>\n",
       "      <td>False</td>\n",
       "      <td>False</td>\n",
       "      <td>False</td>\n",
       "      <td>1742919750000</td>\n",
       "      <td>394</td>\n",
       "      <td>0</td>\n",
       "    </tr>\n",
       "    <tr>\n",
       "      <th>231410</th>\n",
       "      <td>PLATINUM</td>\n",
       "      <td>I</td>\n",
       "      <td>28</td>\n",
       "      <td>17</td>\n",
       "      <td>False</td>\n",
       "      <td>False</td>\n",
       "      <td>True</td>\n",
       "      <td>False</td>\n",
       "      <td>1743072633363</td>\n",
       "      <td>382</td>\n",
       "      <td>0</td>\n",
       "    </tr>\n",
       "  </tbody>\n",
       "</table>\n",
       "</div>"
      ],
      "text/plain": [
       "            tier rank  wins  losses  veteran  inactive  freshBlood  hotStreak  \\\n",
       "231406      IRON    I    15      16    False     False       False      False   \n",
       "231407    SILVER  III     7      16    False     False       False      False   \n",
       "231408      IRON   II     6       7    False     False       False      False   \n",
       "231409    SILVER    I     3       8    False     False       False      False   \n",
       "231410  PLATINUM    I    28      17    False     False        True      False   \n",
       "\n",
       "         revisionDate  summonerLevel  churn  \n",
       "231406  1743185135546             67      0  \n",
       "231407  1741963269000            137      0  \n",
       "231408  1739599632000            165      1  \n",
       "231409  1742919750000            394      0  \n",
       "231410  1743072633363            382      0  "
      ]
     },
     "execution_count": 259,
     "metadata": {},
     "output_type": "execute_result"
    }
   ],
   "source": [
    "df = df.drop_duplicates(keep='first').reset_index(drop=True)\n",
    "df.tail()"
   ]
  },
  {
   "cell_type": "code",
   "execution_count": 260,
   "metadata": {},
   "outputs": [
    {
     "data": {
      "text/html": [
       "<div>\n",
       "<style scoped>\n",
       "    .dataframe tbody tr th:only-of-type {\n",
       "        vertical-align: middle;\n",
       "    }\n",
       "\n",
       "    .dataframe tbody tr th {\n",
       "        vertical-align: top;\n",
       "    }\n",
       "\n",
       "    .dataframe thead th {\n",
       "        text-align: right;\n",
       "    }\n",
       "</style>\n",
       "<table border=\"1\" class=\"dataframe\">\n",
       "  <thead>\n",
       "    <tr style=\"text-align: right;\">\n",
       "      <th></th>\n",
       "      <th>tier</th>\n",
       "      <th>rank</th>\n",
       "      <th>wins</th>\n",
       "      <th>losses</th>\n",
       "      <th>winRate</th>\n",
       "      <th>veteran</th>\n",
       "      <th>inactive</th>\n",
       "      <th>freshBlood</th>\n",
       "      <th>hotStreak</th>\n",
       "      <th>revisionDate</th>\n",
       "      <th>summonerLevel</th>\n",
       "      <th>churn</th>\n",
       "    </tr>\n",
       "  </thead>\n",
       "  <tbody>\n",
       "    <tr>\n",
       "      <th>0</th>\n",
       "      <td>BRONZE</td>\n",
       "      <td>III</td>\n",
       "      <td>2</td>\n",
       "      <td>7</td>\n",
       "      <td>22.222222</td>\n",
       "      <td>False</td>\n",
       "      <td>False</td>\n",
       "      <td>False</td>\n",
       "      <td>False</td>\n",
       "      <td>1739790005000</td>\n",
       "      <td>38</td>\n",
       "      <td>1</td>\n",
       "    </tr>\n",
       "    <tr>\n",
       "      <th>1</th>\n",
       "      <td>DIAMOND</td>\n",
       "      <td>IV</td>\n",
       "      <td>30</td>\n",
       "      <td>22</td>\n",
       "      <td>57.692308</td>\n",
       "      <td>False</td>\n",
       "      <td>False</td>\n",
       "      <td>False</td>\n",
       "      <td>False</td>\n",
       "      <td>1743080553788</td>\n",
       "      <td>181</td>\n",
       "      <td>0</td>\n",
       "    </tr>\n",
       "    <tr>\n",
       "      <th>2</th>\n",
       "      <td>SILVER</td>\n",
       "      <td>IV</td>\n",
       "      <td>292</td>\n",
       "      <td>316</td>\n",
       "      <td>48.026316</td>\n",
       "      <td>False</td>\n",
       "      <td>False</td>\n",
       "      <td>False</td>\n",
       "      <td>False</td>\n",
       "      <td>1742982418000</td>\n",
       "      <td>611</td>\n",
       "      <td>0</td>\n",
       "    </tr>\n",
       "    <tr>\n",
       "      <th>3</th>\n",
       "      <td>IRON</td>\n",
       "      <td>I</td>\n",
       "      <td>5</td>\n",
       "      <td>7</td>\n",
       "      <td>41.666667</td>\n",
       "      <td>False</td>\n",
       "      <td>False</td>\n",
       "      <td>False</td>\n",
       "      <td>False</td>\n",
       "      <td>1741502335000</td>\n",
       "      <td>65</td>\n",
       "      <td>0</td>\n",
       "    </tr>\n",
       "    <tr>\n",
       "      <th>4</th>\n",
       "      <td>IRON</td>\n",
       "      <td>IV</td>\n",
       "      <td>4</td>\n",
       "      <td>8</td>\n",
       "      <td>33.333333</td>\n",
       "      <td>False</td>\n",
       "      <td>False</td>\n",
       "      <td>False</td>\n",
       "      <td>False</td>\n",
       "      <td>1743224663723</td>\n",
       "      <td>238</td>\n",
       "      <td>0</td>\n",
       "    </tr>\n",
       "  </tbody>\n",
       "</table>\n",
       "</div>"
      ],
      "text/plain": [
       "      tier rank  wins  losses    winRate  veteran  inactive  freshBlood  \\\n",
       "0   BRONZE  III     2       7  22.222222    False     False       False   \n",
       "1  DIAMOND   IV    30      22  57.692308    False     False       False   \n",
       "2   SILVER   IV   292     316  48.026316    False     False       False   \n",
       "3     IRON    I     5       7  41.666667    False     False       False   \n",
       "4     IRON   IV     4       8  33.333333    False     False       False   \n",
       "\n",
       "   hotStreak   revisionDate  summonerLevel  churn  \n",
       "0      False  1739790005000             38      1  \n",
       "1      False  1743080553788            181      0  \n",
       "2      False  1742982418000            611      0  \n",
       "3      False  1741502335000             65      0  \n",
       "4      False  1743224663723            238      0  "
      ]
     },
     "execution_count": 260,
     "metadata": {},
     "output_type": "execute_result"
    }
   ],
   "source": [
    "df['winRate'] = df['wins'] / (df['wins'] + df['losses']) * 100 \n",
    "\n",
    "losses_index = df.columns.get_loc(\"losses\")\n",
    "\n",
    "df.insert(losses_index + 1, \"winRate\", df.pop(\"winRate\"))\n",
    "\n",
    "df.head()"
   ]
  },
  {
   "cell_type": "code",
   "execution_count": 253,
   "metadata": {},
   "outputs": [
    {
     "data": {
      "text/html": [
       "<div>\n",
       "<style scoped>\n",
       "    .dataframe tbody tr th:only-of-type {\n",
       "        vertical-align: middle;\n",
       "    }\n",
       "\n",
       "    .dataframe tbody tr th {\n",
       "        vertical-align: top;\n",
       "    }\n",
       "\n",
       "    .dataframe thead th {\n",
       "        text-align: right;\n",
       "    }\n",
       "</style>\n",
       "<table border=\"1\" class=\"dataframe\">\n",
       "  <thead>\n",
       "    <tr style=\"text-align: right;\">\n",
       "      <th></th>\n",
       "      <th>tier</th>\n",
       "      <th>rank</th>\n",
       "      <th>wins</th>\n",
       "      <th>losses</th>\n",
       "      <th>winRate</th>\n",
       "      <th>veteran</th>\n",
       "      <th>inactive</th>\n",
       "      <th>freshBlood</th>\n",
       "      <th>hotStreak</th>\n",
       "      <th>revisionDate</th>\n",
       "      <th>summonerLevel</th>\n",
       "      <th>churn</th>\n",
       "    </tr>\n",
       "  </thead>\n",
       "  <tbody>\n",
       "    <tr>\n",
       "      <th>31</th>\n",
       "      <td>IRON</td>\n",
       "      <td>IV</td>\n",
       "      <td>0</td>\n",
       "      <td>5</td>\n",
       "      <td>0.0</td>\n",
       "      <td>False</td>\n",
       "      <td>False</td>\n",
       "      <td>False</td>\n",
       "      <td>False</td>\n",
       "      <td>1741446506000</td>\n",
       "      <td>48</td>\n",
       "      <td>0</td>\n",
       "    </tr>\n",
       "    <tr>\n",
       "      <th>293</th>\n",
       "      <td>BRONZE</td>\n",
       "      <td>II</td>\n",
       "      <td>0</td>\n",
       "      <td>10</td>\n",
       "      <td>0.0</td>\n",
       "      <td>False</td>\n",
       "      <td>False</td>\n",
       "      <td>False</td>\n",
       "      <td>False</td>\n",
       "      <td>1743087252554</td>\n",
       "      <td>284</td>\n",
       "      <td>0</td>\n",
       "    </tr>\n",
       "    <tr>\n",
       "      <th>355</th>\n",
       "      <td>SILVER</td>\n",
       "      <td>IV</td>\n",
       "      <td>0</td>\n",
       "      <td>5</td>\n",
       "      <td>0.0</td>\n",
       "      <td>False</td>\n",
       "      <td>False</td>\n",
       "      <td>False</td>\n",
       "      <td>False</td>\n",
       "      <td>1739106460000</td>\n",
       "      <td>85</td>\n",
       "      <td>1</td>\n",
       "    </tr>\n",
       "    <tr>\n",
       "      <th>648</th>\n",
       "      <td>PLATINUM</td>\n",
       "      <td>III</td>\n",
       "      <td>0</td>\n",
       "      <td>5</td>\n",
       "      <td>0.0</td>\n",
       "      <td>False</td>\n",
       "      <td>False</td>\n",
       "      <td>False</td>\n",
       "      <td>False</td>\n",
       "      <td>1742050645000</td>\n",
       "      <td>74</td>\n",
       "      <td>0</td>\n",
       "    </tr>\n",
       "    <tr>\n",
       "      <th>750</th>\n",
       "      <td>GOLD</td>\n",
       "      <td>III</td>\n",
       "      <td>0</td>\n",
       "      <td>5</td>\n",
       "      <td>0.0</td>\n",
       "      <td>False</td>\n",
       "      <td>False</td>\n",
       "      <td>False</td>\n",
       "      <td>False</td>\n",
       "      <td>1739713169000</td>\n",
       "      <td>305</td>\n",
       "      <td>1</td>\n",
       "    </tr>\n",
       "    <tr>\n",
       "      <th>...</th>\n",
       "      <td>...</td>\n",
       "      <td>...</td>\n",
       "      <td>...</td>\n",
       "      <td>...</td>\n",
       "      <td>...</td>\n",
       "      <td>...</td>\n",
       "      <td>...</td>\n",
       "      <td>...</td>\n",
       "      <td>...</td>\n",
       "      <td>...</td>\n",
       "      <td>...</td>\n",
       "      <td>...</td>\n",
       "    </tr>\n",
       "    <tr>\n",
       "      <th>230487</th>\n",
       "      <td>PLATINUM</td>\n",
       "      <td>IV</td>\n",
       "      <td>0</td>\n",
       "      <td>6</td>\n",
       "      <td>0.0</td>\n",
       "      <td>False</td>\n",
       "      <td>False</td>\n",
       "      <td>False</td>\n",
       "      <td>False</td>\n",
       "      <td>1743080120017</td>\n",
       "      <td>167</td>\n",
       "      <td>0</td>\n",
       "    </tr>\n",
       "    <tr>\n",
       "      <th>230634</th>\n",
       "      <td>GOLD</td>\n",
       "      <td>III</td>\n",
       "      <td>0</td>\n",
       "      <td>5</td>\n",
       "      <td>0.0</td>\n",
       "      <td>False</td>\n",
       "      <td>False</td>\n",
       "      <td>False</td>\n",
       "      <td>False</td>\n",
       "      <td>1742623308000</td>\n",
       "      <td>175</td>\n",
       "      <td>0</td>\n",
       "    </tr>\n",
       "    <tr>\n",
       "      <th>230654</th>\n",
       "      <td>EMERALD</td>\n",
       "      <td>II</td>\n",
       "      <td>0</td>\n",
       "      <td>5</td>\n",
       "      <td>0.0</td>\n",
       "      <td>False</td>\n",
       "      <td>False</td>\n",
       "      <td>False</td>\n",
       "      <td>False</td>\n",
       "      <td>1742400254000</td>\n",
       "      <td>637</td>\n",
       "      <td>0</td>\n",
       "    </tr>\n",
       "    <tr>\n",
       "      <th>230970</th>\n",
       "      <td>BRONZE</td>\n",
       "      <td>IV</td>\n",
       "      <td>0</td>\n",
       "      <td>5</td>\n",
       "      <td>0.0</td>\n",
       "      <td>False</td>\n",
       "      <td>False</td>\n",
       "      <td>False</td>\n",
       "      <td>False</td>\n",
       "      <td>1742911529000</td>\n",
       "      <td>305</td>\n",
       "      <td>0</td>\n",
       "    </tr>\n",
       "    <tr>\n",
       "      <th>231243</th>\n",
       "      <td>IRON</td>\n",
       "      <td>IV</td>\n",
       "      <td>0</td>\n",
       "      <td>6</td>\n",
       "      <td>0.0</td>\n",
       "      <td>False</td>\n",
       "      <td>False</td>\n",
       "      <td>False</td>\n",
       "      <td>False</td>\n",
       "      <td>1743173437789</td>\n",
       "      <td>117</td>\n",
       "      <td>0</td>\n",
       "    </tr>\n",
       "  </tbody>\n",
       "</table>\n",
       "<p>1082 rows × 12 columns</p>\n",
       "</div>"
      ],
      "text/plain": [
       "            tier rank  wins  losses  winRate  veteran  inactive  freshBlood  \\\n",
       "31          IRON   IV     0       5      0.0    False     False       False   \n",
       "293       BRONZE   II     0      10      0.0    False     False       False   \n",
       "355       SILVER   IV     0       5      0.0    False     False       False   \n",
       "648     PLATINUM  III     0       5      0.0    False     False       False   \n",
       "750         GOLD  III     0       5      0.0    False     False       False   \n",
       "...          ...  ...   ...     ...      ...      ...       ...         ...   \n",
       "230487  PLATINUM   IV     0       6      0.0    False     False       False   \n",
       "230634      GOLD  III     0       5      0.0    False     False       False   \n",
       "230654   EMERALD   II     0       5      0.0    False     False       False   \n",
       "230970    BRONZE   IV     0       5      0.0    False     False       False   \n",
       "231243      IRON   IV     0       6      0.0    False     False       False   \n",
       "\n",
       "        hotStreak   revisionDate  summonerLevel  churn  \n",
       "31          False  1741446506000             48      0  \n",
       "293         False  1743087252554            284      0  \n",
       "355         False  1739106460000             85      1  \n",
       "648         False  1742050645000             74      0  \n",
       "750         False  1739713169000            305      1  \n",
       "...           ...            ...            ...    ...  \n",
       "230487      False  1743080120017            167      0  \n",
       "230634      False  1742623308000            175      0  \n",
       "230654      False  1742400254000            637      0  \n",
       "230970      False  1742911529000            305      0  \n",
       "231243      False  1743173437789            117      0  \n",
       "\n",
       "[1082 rows x 12 columns]"
      ]
     },
     "execution_count": 253,
     "metadata": {},
     "output_type": "execute_result"
    }
   ],
   "source": [
    "df[df['winRate']==0]"
   ]
  },
  {
   "cell_type": "markdown",
   "metadata": {},
   "source": [
    "---"
   ]
  },
  {
   "cell_type": "markdown",
   "metadata": {},
   "source": [
    "## 10% 표본 시각화"
   ]
  },
  {
   "cell_type": "code",
   "execution_count": 246,
   "metadata": {},
   "outputs": [
    {
     "data": {
      "image/png": "[encoded data removed]",
      "text/plain": [
       "<Figure size 1080x432 with 1 Axes>"
      ]
     },
     "metadata": {
      "needs_background": "light"
     },
     "output_type": "display_data"
    }
   ],
   "source": [
    "tier_order=['IRON','BRONZE','SILVER','GOLD','PLATINUM','EMERALD','DIAMOND','MASTER','GRANDMASTER','CHALLENGER']\n",
    "\n",
    "plt.figure(figsize=(15,6))\n",
    "sns.set_palette(\"pastel\")\n",
    "ax = sns.countplot(data=df, x='tier', order=tier_order, hue_order=tier_order)\n",
    "\n",
    "for p in ax.patches:\n",
    "    ax.annotate(f'{int(p.get_height())}', \n",
    "                (p.get_x() + p.get_width() / 2, p.get_height()),  \n",
    "                ha='center', \n",
    "                va='bottom',  \n",
    "                fontsize=10, \n",
    "                color='black')  \n",
    "\n",
    "plt.title('Player 분포')\n",
    "plt.show()"
   ]
  },
  {
   "cell_type": "code",
   "execution_count": 247,
   "metadata": {},
   "outputs": [
    {
     "data": {
      "image/png": "[encoded data removed]",
      "text/plain": [
       "<Figure size 1080x432 with 1 Axes>"
      ]
     },
     "metadata": {
      "needs_background": "light"
     },
     "output_type": "display_data"
    }
   ],
   "source": [
    "veteran_player = df[df['veteran']==True]\n",
    "tier_order=['IRON','BRONZE','SILVER','GOLD','PLATINUM','EMERALD','DIAMOND','MASTER','GRANDMASTER','CHALLENGER']\n",
    "\n",
    "sns.set_palette(\"pastel\")\n",
    "\n",
    "if not veteran_player.empty:\n",
    "    plt.figure(figsize=(15, 6))\n",
    "    ax = sns.countplot(data=veteran_player, x='tier', order=tier_order, hue_order=tier_order)\n",
    "\n",
    "    for p in ax.patches:\n",
    "        height = p.get_height()\n",
    "        if not np.isnan(height): \n",
    "            ax.annotate(f'{int(height)}',  \n",
    "                (p.get_x() + p.get_width() / 2, height),  \n",
    "                ha='center', va='bottom', fontsize=10, color='black') \n",
    "\n",
    "    plt.title(\"베테랑 Player의 Tier 분포\")\n",
    "    plt.show()\n",
    "else:\n",
    "    print(\"베테랑 플레이어 데이터가 없습니다.\")"
   ]
  },
  {
   "cell_type": "code",
   "execution_count": null,
   "metadata": {},
   "outputs": [
    {
     "data": {
      "image/png": "[encoded data removed]",
      "text/plain": [
       "<Figure size 864x576 with 4 Axes>"
      ]
     },
     "metadata": {
      "needs_background": "light"
     },
     "output_type": "display_data"
    }
   ],
   "source": [
    "cols = ['veteran', 'inactive', 'freshBlood', 'hotStreak']\n",
    "\n",
    "fig, axes = plt.subplots(2, 2, figsize=(12, 8), sharey=True)\n",
    "\n",
    "for ax, col in zip(axes.flatten(), cols):\n",
    "    sns.countplot(data=df, x=col, ax=ax, palette='pastel')\n",
    "    \n",
    "    for p in ax.patches:\n",
    "        ax.annotate(f'{int(p.get_height())}', \n",
    "                (p.get_x() + p.get_width() / 2, p.get_height()),  \n",
    "                ha='center', \n",
    "                va='bottom',  \n",
    "                fontsize=10, \n",
    "                color='black') \n",
    "\n",
    "plt.tight_layout()\n",
    "plt.show()"
   ]
  },
  {
   "cell_type": "code",
   "execution_count": null,
   "metadata": {},
   "outputs": [],
   "source": []
  }
 ],
 "metadata": {
  "kernelspec": {
   "display_name": "base",
   "language": "python",
   "name": "python3"
  },
  "language_info": {
   "codemirror_mode": {
    "name": "ipython",
    "version": 3
   },
   "file_extension": ".py",
   "mimetype": "text/x-python",
   "name": "python",
   "nbconvert_exporter": "python",
   "pygments_lexer": "ipython3",
   "version": "3.8.5"
  }
 },
 "nbformat": 4,
 "nbformat_minor": 2
}
