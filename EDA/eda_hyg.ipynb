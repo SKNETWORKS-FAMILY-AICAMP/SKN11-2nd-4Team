{
 "cells": [
  {
   "cell_type": "code",
   "execution_count": 126,
   "metadata": {},
   "outputs": [],
   "source": [
    "import os\n",
    "import sys\n",
    "import time\n",
    "import numpy as np\n",
    "import pandas as pd\n",
    "import matplotlib.pyplot as plt\n",
    "import seaborn as sns\n",
    "from glob import glob\n",
    "from datetime import datetime, timezone"
   ]
  },
  {
   "cell_type": "code",
   "execution_count": 127,
   "metadata": {},
   "outputs": [],
   "source": [
    "import matplotlib.pyplot as plt\n",
    "import matplotlib.font_manager as fm\n",
    "\n",
    "plt.rcParams['font.family'] = 'AppleGothic'"
   ]
  },
  {
   "cell_type": "markdown",
   "metadata": {},
   "source": [
    "---"
   ]
  },
  {
   "cell_type": "markdown",
   "metadata": {},
   "source": [
    "# Load Data"
   ]
  },
  {
   "cell_type": "markdown",
   "metadata": {},
   "source": [
    "### player_info"
   ]
  },
  {
   "cell_type": "code",
   "execution_count": 128,
   "metadata": {},
   "outputs": [
    {
     "data": {
      "text/plain": [
       "'/Users/hyeon-yugyeong/skn11-projects/project02/SKN11-2nd-4Team'"
      ]
     },
     "execution_count": 128,
     "metadata": {},
     "output_type": "execute_result"
    }
   ],
   "source": [
    "base_dir = os.path.dirname(os.getcwd()) \n",
    "base_dir"
   ]
  },
  {
   "cell_type": "code",
   "execution_count": 129,
   "metadata": {},
   "outputs": [
    {
     "data": {
      "text/html": [
       "<div>\n",
       "<style scoped>\n",
       "    .dataframe tbody tr th:only-of-type {\n",
       "        vertical-align: middle;\n",
       "    }\n",
       "\n",
       "    .dataframe tbody tr th {\n",
       "        vertical-align: top;\n",
       "    }\n",
       "\n",
       "    .dataframe thead th {\n",
       "        text-align: right;\n",
       "    }\n",
       "</style>\n",
       "<table border=\"1\" class=\"dataframe\">\n",
       "  <thead>\n",
       "    <tr style=\"text-align: right;\">\n",
       "      <th></th>\n",
       "      <th>leagueId</th>\n",
       "      <th>queueType</th>\n",
       "      <th>tier</th>\n",
       "      <th>rank</th>\n",
       "      <th>summonerId</th>\n",
       "      <th>puuid</th>\n",
       "      <th>leaguePoints</th>\n",
       "      <th>wins</th>\n",
       "      <th>losses</th>\n",
       "      <th>veteran</th>\n",
       "      <th>inactive</th>\n",
       "      <th>freshBlood</th>\n",
       "      <th>hotStreak</th>\n",
       "    </tr>\n",
       "  </thead>\n",
       "  <tbody>\n",
       "    <tr>\n",
       "      <th>0</th>\n",
       "      <td>f26c5cb6-bd2d-4200-a242-8df7110fb92d</td>\n",
       "      <td>RANKED_SOLO_5x5</td>\n",
       "      <td>IRON</td>\n",
       "      <td>I</td>\n",
       "      <td>kzfWHgI8V_2cJqjjbTB0yZJbgjQvtFS93SKMqH3YJkrU40Y</td>\n",
       "      <td>8jGtg9MlbzXYQ5Umf4Y7uMqdRMEzmruPsYll-SxwQoFKQG...</td>\n",
       "      <td>12</td>\n",
       "      <td>34</td>\n",
       "      <td>37</td>\n",
       "      <td>False</td>\n",
       "      <td>False</td>\n",
       "      <td>False</td>\n",
       "      <td>False</td>\n",
       "    </tr>\n",
       "    <tr>\n",
       "      <th>1</th>\n",
       "      <td>87c4c731-1aa1-4d2e-8d35-e08030ba8efb</td>\n",
       "      <td>RANKED_SOLO_5x5</td>\n",
       "      <td>IRON</td>\n",
       "      <td>I</td>\n",
       "      <td>UJkCh2bS4YO7C7dm1Yl4IT7EzziLzdO_TW_R6N8j-pUGXe...</td>\n",
       "      <td>ji4uoQKx3SS0YeMtjxqMc_KUJQOMSJFi81zLnyiozVp0sS...</td>\n",
       "      <td>97</td>\n",
       "      <td>3</td>\n",
       "      <td>2</td>\n",
       "      <td>False</td>\n",
       "      <td>False</td>\n",
       "      <td>False</td>\n",
       "      <td>False</td>\n",
       "    </tr>\n",
       "    <tr>\n",
       "      <th>2</th>\n",
       "      <td>d51830f2-4420-4077-a3b2-effaa7105d57</td>\n",
       "      <td>RANKED_SOLO_5x5</td>\n",
       "      <td>IRON</td>\n",
       "      <td>I</td>\n",
       "      <td>Fp6byjg-SRwFMT7PSfbvGwTqrUmLZHZikAsT9RpJ674xu9...</td>\n",
       "      <td>Dr8ib7fv4pemOqJC-uOKTwVR5fz5Y6l7SZ4hIP4bHurqUZ...</td>\n",
       "      <td>25</td>\n",
       "      <td>7</td>\n",
       "      <td>4</td>\n",
       "      <td>False</td>\n",
       "      <td>False</td>\n",
       "      <td>False</td>\n",
       "      <td>False</td>\n",
       "    </tr>\n",
       "    <tr>\n",
       "      <th>3</th>\n",
       "      <td>1df0f655-cf74-4222-8cb7-3e6aef91e83b</td>\n",
       "      <td>RANKED_SOLO_5x5</td>\n",
       "      <td>IRON</td>\n",
       "      <td>I</td>\n",
       "      <td>Bw1lDX9vJrQxNwdg3XYiF73EA7mZ-sxAHyU6gnBG-4qiz_...</td>\n",
       "      <td>H3_TUJhQZkRyzaE12ro9i0hJIkz5RY3qr_s8qiDtwqczwe...</td>\n",
       "      <td>32</td>\n",
       "      <td>10</td>\n",
       "      <td>18</td>\n",
       "      <td>False</td>\n",
       "      <td>False</td>\n",
       "      <td>False</td>\n",
       "      <td>False</td>\n",
       "    </tr>\n",
       "    <tr>\n",
       "      <th>4</th>\n",
       "      <td>640dcade-2e4f-4387-a1bc-e1ca4b13eb0c</td>\n",
       "      <td>RANKED_SOLO_5x5</td>\n",
       "      <td>IRON</td>\n",
       "      <td>I</td>\n",
       "      <td>ZbL41OC4EgevPLDBG4ovAANvDvvyDinVGoPKXRcLCtc5kJ...</td>\n",
       "      <td>U-d8m0EbMQeWnD1IXWRR17TxkwoltApIMEB3jjJRKRYY7E...</td>\n",
       "      <td>80</td>\n",
       "      <td>7</td>\n",
       "      <td>6</td>\n",
       "      <td>False</td>\n",
       "      <td>False</td>\n",
       "      <td>False</td>\n",
       "      <td>True</td>\n",
       "    </tr>\n",
       "  </tbody>\n",
       "</table>\n",
       "</div>"
      ],
      "text/plain": [
       "                               leagueId        queueType  tier rank  \\\n",
       "0  f26c5cb6-bd2d-4200-a242-8df7110fb92d  RANKED_SOLO_5x5  IRON    I   \n",
       "1  87c4c731-1aa1-4d2e-8d35-e08030ba8efb  RANKED_SOLO_5x5  IRON    I   \n",
       "2  d51830f2-4420-4077-a3b2-effaa7105d57  RANKED_SOLO_5x5  IRON    I   \n",
       "3  1df0f655-cf74-4222-8cb7-3e6aef91e83b  RANKED_SOLO_5x5  IRON    I   \n",
       "4  640dcade-2e4f-4387-a1bc-e1ca4b13eb0c  RANKED_SOLO_5x5  IRON    I   \n",
       "\n",
       "                                          summonerId  \\\n",
       "0    kzfWHgI8V_2cJqjjbTB0yZJbgjQvtFS93SKMqH3YJkrU40Y   \n",
       "1  UJkCh2bS4YO7C7dm1Yl4IT7EzziLzdO_TW_R6N8j-pUGXe...   \n",
       "2  Fp6byjg-SRwFMT7PSfbvGwTqrUmLZHZikAsT9RpJ674xu9...   \n",
       "3  Bw1lDX9vJrQxNwdg3XYiF73EA7mZ-sxAHyU6gnBG-4qiz_...   \n",
       "4  ZbL41OC4EgevPLDBG4ovAANvDvvyDinVGoPKXRcLCtc5kJ...   \n",
       "\n",
       "                                               puuid  leaguePoints  wins  \\\n",
       "0  8jGtg9MlbzXYQ5Umf4Y7uMqdRMEzmruPsYll-SxwQoFKQG...            12    34   \n",
       "1  ji4uoQKx3SS0YeMtjxqMc_KUJQOMSJFi81zLnyiozVp0sS...            97     3   \n",
       "2  Dr8ib7fv4pemOqJC-uOKTwVR5fz5Y6l7SZ4hIP4bHurqUZ...            25     7   \n",
       "3  H3_TUJhQZkRyzaE12ro9i0hJIkz5RY3qr_s8qiDtwqczwe...            32    10   \n",
       "4  U-d8m0EbMQeWnD1IXWRR17TxkwoltApIMEB3jjJRKRYY7E...            80     7   \n",
       "\n",
       "   losses  veteran  inactive  freshBlood  hotStreak  \n",
       "0      37    False     False       False      False  \n",
       "1       2    False     False       False      False  \n",
       "2       4    False     False       False      False  \n",
       "3      18    False     False       False      False  \n",
       "4       6    False     False       False       True  "
      ]
     },
     "metadata": {},
     "output_type": "display_data"
    },
    {
     "name": "stdout",
     "output_type": "stream",
     "text": [
      "Player information data count : 231930\n"
     ]
    }
   ],
   "source": [
    "base_dir = os.path.dirname(os.getcwd())  # 현재 폴더의 부모 디렉토리\n",
    "path = os.path.join(base_dir, \"data/reduction_data/*.csv\")\n",
    "file_paths = glob(path)\n",
    "\n",
    "player_info_data = pd.DataFrame()\n",
    "\n",
    "for file in file_paths:\n",
    "    player_info_data = pd.concat([player_info_data, pd.read_csv(file, encoding=\"utf-8\")], axis=0)\n",
    "\n",
    "display(player_info_data.head())\n",
    "print(f\"Player information data count : {len(player_info_data)}\")"
   ]
  },
  {
   "cell_type": "code",
   "execution_count": 130,
   "metadata": {},
   "outputs": [
    {
     "name": "stdout",
     "output_type": "stream",
     "text": [
      "<class 'pandas.core.frame.DataFrame'>\n",
      "Int64Index: 231930 entries, 0 to 69\n",
      "Data columns (total 13 columns):\n",
      " #   Column        Non-Null Count   Dtype \n",
      "---  ------        --------------   ----- \n",
      " 0   leagueId      231930 non-null  object\n",
      " 1   queueType     231930 non-null  object\n",
      " 2   tier          231930 non-null  object\n",
      " 3   rank          231930 non-null  object\n",
      " 4   summonerId    231930 non-null  object\n",
      " 5   puuid         231930 non-null  object\n",
      " 6   leaguePoints  231930 non-null  int64 \n",
      " 7   wins          231930 non-null  int64 \n",
      " 8   losses        231930 non-null  int64 \n",
      " 9   veteran       231930 non-null  bool  \n",
      " 10  inactive      231930 non-null  bool  \n",
      " 11  freshBlood    231930 non-null  bool  \n",
      " 12  hotStreak     231930 non-null  bool  \n",
      "dtypes: bool(4), int64(3), object(6)\n",
      "memory usage: 18.6+ MB\n"
     ]
    }
   ],
   "source": [
    "player_info_data.info()"
   ]
  },
  {
   "cell_type": "code",
   "execution_count": 131,
   "metadata": {},
   "outputs": [
    {
     "data": {
      "image/png": "[encoded data removed]",
      "text/plain": [
       "<Figure size 1440x720 with 1 Axes>"
      ]
     },
     "metadata": {
      "needs_background": "light"
     },
     "output_type": "display_data"
    }
   ],
   "source": [
    "tier_order=['IRON','BRONZE','SILVER','GOLD','PLATINUM','EMERALD','DIAMOND','MASTER','GRANDMASTER','CHALLENGER']\n",
    "\n",
    "plt.figure(figsize=(20,10))\n",
    "ax = sns.countplot(data=player_info_data, x='tier', order=tier_order, hue_order=tier_order)\n",
    "\n",
    "for p in ax.patches:\n",
    "    ax.annotate(f'{int(p.get_height())}', \n",
    "                (p.get_x() + p.get_width() / 2, p.get_height()),  \n",
    "                ha='center', \n",
    "                va='bottom',  \n",
    "                fontsize=10, \n",
    "                color='black')  \n",
    "plt.title('Player Distribution')\n",
    "plt.show()"
   ]
  },
  {
   "cell_type": "code",
   "execution_count": 132,
   "metadata": {},
   "outputs": [
    {
     "data": {
      "text/plain": [
       "29423"
      ]
     },
     "execution_count": 132,
     "metadata": {},
     "output_type": "execute_result"
    }
   ],
   "source": [
    "player_info_data['leagueId'].nunique() # 231930"
   ]
  },
  {
   "cell_type": "code",
   "execution_count": 133,
   "metadata": {},
   "outputs": [
    {
     "data": {
      "image/png": "[encoded data removed]",
      "text/plain": [
       "<Figure size 720x432 with 1 Axes>"
      ]
     },
     "metadata": {
      "needs_background": "light"
     },
     "output_type": "display_data"
    }
   ],
   "source": [
    "veteran_player = player_info_data[player_info_data['veteran']==True]\n",
    "\n",
    "plt.figure(figsize=(10, 6))\n",
    "ax = sns.countplot(data=veteran_player, x='tier')\n",
    "\n",
    "for p in ax.patches:\n",
    "    ax.annotate(f'{int(p.get_height())}', \n",
    "        (p.get_x() + p.get_width() / 2, p.get_height()),  \n",
    "        ha='center', \n",
    "        va='bottom',  \n",
    "        fontsize=10, \n",
    "        color='black') \n",
    "\n",
    "plt.title(\"베테랑 Player의 Tier 분포\")\n",
    "plt.show()"
   ]
  },
  {
   "cell_type": "code",
   "execution_count": 134,
   "metadata": {},
   "outputs": [
    {
     "data": {
      "text/plain": [
       "0     False\n",
       "1     False\n",
       "2     False\n",
       "3     False\n",
       "4     False\n",
       "      ...  \n",
       "65    False\n",
       "66    False\n",
       "67    False\n",
       "68    False\n",
       "69    False\n",
       "Name: veteran, Length: 231930, dtype: bool"
      ]
     },
     "execution_count": 134,
     "metadata": {},
     "output_type": "execute_result"
    }
   ],
   "source": [
    "# veteran==True인 사람의 티어 분포\n",
    "player_veteran = player_info_data['veteran']==True\n",
    "player_veteran"
   ]
  },
  {
   "cell_type": "markdown",
   "metadata": {},
   "source": [
    "### summoner"
   ]
  },
  {
   "cell_type": "code",
   "execution_count": 176,
   "metadata": {},
   "outputs": [
    {
     "data": {
      "text/html": [
       "<div>\n",
       "<style scoped>\n",
       "    .dataframe tbody tr th:only-of-type {\n",
       "        vertical-align: middle;\n",
       "    }\n",
       "\n",
       "    .dataframe tbody tr th {\n",
       "        vertical-align: top;\n",
       "    }\n",
       "\n",
       "    .dataframe thead th {\n",
       "        text-align: right;\n",
       "    }\n",
       "</style>\n",
       "<table border=\"1\" class=\"dataframe\">\n",
       "  <thead>\n",
       "    <tr style=\"text-align: right;\">\n",
       "      <th></th>\n",
       "      <th>id</th>\n",
       "      <th>accountId</th>\n",
       "      <th>puuid</th>\n",
       "      <th>profileIconId</th>\n",
       "      <th>revisionDate</th>\n",
       "      <th>summonerLevel</th>\n",
       "    </tr>\n",
       "  </thead>\n",
       "  <tbody>\n",
       "    <tr>\n",
       "      <th>0</th>\n",
       "      <td>kzfWHgI8V_2cJqjjbTB0yZJbgjQvtFS93SKMqH3YJkrU40Y</td>\n",
       "      <td>icSLs6wHD6MXeiVitcnnkhP-wOAomDL_pmtFMPY5f5ZFpe...</td>\n",
       "      <td>8jGtg9MlbzXYQ5Umf4Y7uMqdRMEzmruPsYll-SxwQoFKQG...</td>\n",
       "      <td>6680</td>\n",
       "      <td>1742720089000</td>\n",
       "      <td>195</td>\n",
       "    </tr>\n",
       "    <tr>\n",
       "      <th>1</th>\n",
       "      <td>UJkCh2bS4YO7C7dm1Yl4IT7EzziLzdO_TW_R6N8j-pUGXe...</td>\n",
       "      <td>WPl57MkrPZy_x60hv4-6D4kNobi7UKzkjPebH_Y_yNcICe...</td>\n",
       "      <td>ji4uoQKx3SS0YeMtjxqMc_KUJQOMSJFi81zLnyiozVp0sS...</td>\n",
       "      <td>6502</td>\n",
       "      <td>1737559985000</td>\n",
       "      <td>41</td>\n",
       "    </tr>\n",
       "    <tr>\n",
       "      <th>2</th>\n",
       "      <td>Fp6byjg-SRwFMT7PSfbvGwTqrUmLZHZikAsT9RpJ674xu9...</td>\n",
       "      <td>Eo33kaonTf9g83OROj6wF4ipeDxS-axJ5h5uTR_KvWwRa3...</td>\n",
       "      <td>Dr8ib7fv4pemOqJC-uOKTwVR5fz5Y6l7SZ4hIP4bHurqUZ...</td>\n",
       "      <td>5950</td>\n",
       "      <td>1742297642000</td>\n",
       "      <td>147</td>\n",
       "    </tr>\n",
       "    <tr>\n",
       "      <th>3</th>\n",
       "      <td>Bw1lDX9vJrQxNwdg3XYiF73EA7mZ-sxAHyU6gnBG-4qiz_...</td>\n",
       "      <td>BnBYfCwSCb0hUPNb9ikaRgsWfgr0RRTdv-2fPmj7aCI_7r...</td>\n",
       "      <td>H3_TUJhQZkRyzaE12ro9i0hJIkz5RY3qr_s8qiDtwqczwe...</td>\n",
       "      <td>3543</td>\n",
       "      <td>1743181417956</td>\n",
       "      <td>123</td>\n",
       "    </tr>\n",
       "    <tr>\n",
       "      <th>4</th>\n",
       "      <td>ZbL41OC4EgevPLDBG4ovAANvDvvyDinVGoPKXRcLCtc5kJ...</td>\n",
       "      <td>X1LJxXc_h1D3opvcb82sSh7MqshyT0em9K3Tauyb5Diw45...</td>\n",
       "      <td>U-d8m0EbMQeWnD1IXWRR17TxkwoltApIMEB3jjJRKRYY7E...</td>\n",
       "      <td>907</td>\n",
       "      <td>1738310268000</td>\n",
       "      <td>31</td>\n",
       "    </tr>\n",
       "  </tbody>\n",
       "</table>\n",
       "</div>"
      ],
      "text/plain": [
       "                                                  id  \\\n",
       "0    kzfWHgI8V_2cJqjjbTB0yZJbgjQvtFS93SKMqH3YJkrU40Y   \n",
       "1  UJkCh2bS4YO7C7dm1Yl4IT7EzziLzdO_TW_R6N8j-pUGXe...   \n",
       "2  Fp6byjg-SRwFMT7PSfbvGwTqrUmLZHZikAsT9RpJ674xu9...   \n",
       "3  Bw1lDX9vJrQxNwdg3XYiF73EA7mZ-sxAHyU6gnBG-4qiz_...   \n",
       "4  ZbL41OC4EgevPLDBG4ovAANvDvvyDinVGoPKXRcLCtc5kJ...   \n",
       "\n",
       "                                           accountId  \\\n",
       "0  icSLs6wHD6MXeiVitcnnkhP-wOAomDL_pmtFMPY5f5ZFpe...   \n",
       "1  WPl57MkrPZy_x60hv4-6D4kNobi7UKzkjPebH_Y_yNcICe...   \n",
       "2  Eo33kaonTf9g83OROj6wF4ipeDxS-axJ5h5uTR_KvWwRa3...   \n",
       "3  BnBYfCwSCb0hUPNb9ikaRgsWfgr0RRTdv-2fPmj7aCI_7r...   \n",
       "4  X1LJxXc_h1D3opvcb82sSh7MqshyT0em9K3Tauyb5Diw45...   \n",
       "\n",
       "                                               puuid  profileIconId  \\\n",
       "0  8jGtg9MlbzXYQ5Umf4Y7uMqdRMEzmruPsYll-SxwQoFKQG...           6680   \n",
       "1  ji4uoQKx3SS0YeMtjxqMc_KUJQOMSJFi81zLnyiozVp0sS...           6502   \n",
       "2  Dr8ib7fv4pemOqJC-uOKTwVR5fz5Y6l7SZ4hIP4bHurqUZ...           5950   \n",
       "3  H3_TUJhQZkRyzaE12ro9i0hJIkz5RY3qr_s8qiDtwqczwe...           3543   \n",
       "4  U-d8m0EbMQeWnD1IXWRR17TxkwoltApIMEB3jjJRKRYY7E...            907   \n",
       "\n",
       "    revisionDate  summonerLevel  \n",
       "0  1742720089000            195  \n",
       "1  1737559985000             41  \n",
       "2  1742297642000            147  \n",
       "3  1743181417956            123  \n",
       "4  1738310268000             31  "
      ]
     },
     "metadata": {},
     "output_type": "display_data"
    },
    {
     "name": "stdout",
     "output_type": "stream",
     "text": [
      "Summoner data count : 231930\n"
     ]
    }
   ],
   "source": [
    "path = os.path.join(os.path.split(os.getcwd())[0], \"data/summoner/*.csv\")\n",
    "file_path = glob(path)\n",
    "\n",
    "summoner_data = pd.DataFrame()\n",
    "\n",
    "for file in file_path:\n",
    "    summoner_data = pd.concat([summoner_data, pd.read_csv(file, encoding=\"utf-8\")], axis=0)\n",
    "\n",
    "display(summoner_data.head())\n",
    "print(f\"Summoner data count : {len(summoner_data.index)}\")"
   ]
  },
  {
   "cell_type": "code",
   "execution_count": 177,
   "metadata": {},
   "outputs": [
    {
     "name": "stdout",
     "output_type": "stream",
     "text": [
      "<class 'pandas.core.frame.DataFrame'>\n",
      "Int64Index: 231930 entries, 0 to 33\n",
      "Data columns (total 6 columns):\n",
      " #   Column         Non-Null Count   Dtype \n",
      "---  ------         --------------   ----- \n",
      " 0   id             231930 non-null  object\n",
      " 1   accountId      231930 non-null  object\n",
      " 2   puuid          231930 non-null  object\n",
      " 3   profileIconId  231930 non-null  int64 \n",
      " 4   revisionDate   231930 non-null  int64 \n",
      " 5   summonerLevel  231930 non-null  int64 \n",
      "dtypes: int64(3), object(3)\n",
      "memory usage: 12.4+ MB\n"
     ]
    }
   ],
   "source": [
    "summoner_data.info()"
   ]
  },
  {
   "cell_type": "code",
   "execution_count": 178,
   "metadata": {},
   "outputs": [
    {
     "data": {
      "text/html": [
       "<div>\n",
       "<style scoped>\n",
       "    .dataframe tbody tr th:only-of-type {\n",
       "        vertical-align: middle;\n",
       "    }\n",
       "\n",
       "    .dataframe tbody tr th {\n",
       "        vertical-align: top;\n",
       "    }\n",
       "\n",
       "    .dataframe thead th {\n",
       "        text-align: right;\n",
       "    }\n",
       "</style>\n",
       "<table border=\"1\" class=\"dataframe\">\n",
       "  <thead>\n",
       "    <tr style=\"text-align: right;\">\n",
       "      <th></th>\n",
       "      <th>leagueId</th>\n",
       "      <th>queueType</th>\n",
       "      <th>tier</th>\n",
       "      <th>rank</th>\n",
       "      <th>summonerId</th>\n",
       "      <th>puuid</th>\n",
       "      <th>leaguePoints</th>\n",
       "      <th>wins</th>\n",
       "      <th>losses</th>\n",
       "      <th>veteran</th>\n",
       "      <th>inactive</th>\n",
       "      <th>freshBlood</th>\n",
       "      <th>hotStreak</th>\n",
       "      <th>id</th>\n",
       "      <th>accountId</th>\n",
       "      <th>profileIconId</th>\n",
       "      <th>revisionDate</th>\n",
       "      <th>summonerLevel</th>\n",
       "    </tr>\n",
       "  </thead>\n",
       "  <tbody>\n",
       "    <tr>\n",
       "      <th>0</th>\n",
       "      <td>f26c5cb6-bd2d-4200-a242-8df7110fb92d</td>\n",
       "      <td>RANKED_SOLO_5x5</td>\n",
       "      <td>IRON</td>\n",
       "      <td>I</td>\n",
       "      <td>kzfWHgI8V_2cJqjjbTB0yZJbgjQvtFS93SKMqH3YJkrU40Y</td>\n",
       "      <td>8jGtg9MlbzXYQ5Umf4Y7uMqdRMEzmruPsYll-SxwQoFKQG...</td>\n",
       "      <td>12</td>\n",
       "      <td>34</td>\n",
       "      <td>37</td>\n",
       "      <td>False</td>\n",
       "      <td>False</td>\n",
       "      <td>False</td>\n",
       "      <td>False</td>\n",
       "      <td>kzfWHgI8V_2cJqjjbTB0yZJbgjQvtFS93SKMqH3YJkrU40Y</td>\n",
       "      <td>icSLs6wHD6MXeiVitcnnkhP-wOAomDL_pmtFMPY5f5ZFpe...</td>\n",
       "      <td>6680</td>\n",
       "      <td>1742720089000</td>\n",
       "      <td>195</td>\n",
       "    </tr>\n",
       "    <tr>\n",
       "      <th>1</th>\n",
       "      <td>87c4c731-1aa1-4d2e-8d35-e08030ba8efb</td>\n",
       "      <td>RANKED_SOLO_5x5</td>\n",
       "      <td>IRON</td>\n",
       "      <td>I</td>\n",
       "      <td>UJkCh2bS4YO7C7dm1Yl4IT7EzziLzdO_TW_R6N8j-pUGXe...</td>\n",
       "      <td>ji4uoQKx3SS0YeMtjxqMc_KUJQOMSJFi81zLnyiozVp0sS...</td>\n",
       "      <td>97</td>\n",
       "      <td>3</td>\n",
       "      <td>2</td>\n",
       "      <td>False</td>\n",
       "      <td>False</td>\n",
       "      <td>False</td>\n",
       "      <td>False</td>\n",
       "      <td>UJkCh2bS4YO7C7dm1Yl4IT7EzziLzdO_TW_R6N8j-pUGXe...</td>\n",
       "      <td>WPl57MkrPZy_x60hv4-6D4kNobi7UKzkjPebH_Y_yNcICe...</td>\n",
       "      <td>6502</td>\n",
       "      <td>1737559985000</td>\n",
       "      <td>41</td>\n",
       "    </tr>\n",
       "    <tr>\n",
       "      <th>2</th>\n",
       "      <td>d51830f2-4420-4077-a3b2-effaa7105d57</td>\n",
       "      <td>RANKED_SOLO_5x5</td>\n",
       "      <td>IRON</td>\n",
       "      <td>I</td>\n",
       "      <td>Fp6byjg-SRwFMT7PSfbvGwTqrUmLZHZikAsT9RpJ674xu9...</td>\n",
       "      <td>Dr8ib7fv4pemOqJC-uOKTwVR5fz5Y6l7SZ4hIP4bHurqUZ...</td>\n",
       "      <td>25</td>\n",
       "      <td>7</td>\n",
       "      <td>4</td>\n",
       "      <td>False</td>\n",
       "      <td>False</td>\n",
       "      <td>False</td>\n",
       "      <td>False</td>\n",
       "      <td>Fp6byjg-SRwFMT7PSfbvGwTqrUmLZHZikAsT9RpJ674xu9...</td>\n",
       "      <td>Eo33kaonTf9g83OROj6wF4ipeDxS-axJ5h5uTR_KvWwRa3...</td>\n",
       "      <td>5950</td>\n",
       "      <td>1742297642000</td>\n",
       "      <td>147</td>\n",
       "    </tr>\n",
       "    <tr>\n",
       "      <th>3</th>\n",
       "      <td>1df0f655-cf74-4222-8cb7-3e6aef91e83b</td>\n",
       "      <td>RANKED_SOLO_5x5</td>\n",
       "      <td>IRON</td>\n",
       "      <td>I</td>\n",
       "      <td>Bw1lDX9vJrQxNwdg3XYiF73EA7mZ-sxAHyU6gnBG-4qiz_...</td>\n",
       "      <td>H3_TUJhQZkRyzaE12ro9i0hJIkz5RY3qr_s8qiDtwqczwe...</td>\n",
       "      <td>32</td>\n",
       "      <td>10</td>\n",
       "      <td>18</td>\n",
       "      <td>False</td>\n",
       "      <td>False</td>\n",
       "      <td>False</td>\n",
       "      <td>False</td>\n",
       "      <td>Bw1lDX9vJrQxNwdg3XYiF73EA7mZ-sxAHyU6gnBG-4qiz_...</td>\n",
       "      <td>BnBYfCwSCb0hUPNb9ikaRgsWfgr0RRTdv-2fPmj7aCI_7r...</td>\n",
       "      <td>3543</td>\n",
       "      <td>1743181417956</td>\n",
       "      <td>123</td>\n",
       "    </tr>\n",
       "    <tr>\n",
       "      <th>4</th>\n",
       "      <td>640dcade-2e4f-4387-a1bc-e1ca4b13eb0c</td>\n",
       "      <td>RANKED_SOLO_5x5</td>\n",
       "      <td>IRON</td>\n",
       "      <td>I</td>\n",
       "      <td>ZbL41OC4EgevPLDBG4ovAANvDvvyDinVGoPKXRcLCtc5kJ...</td>\n",
       "      <td>U-d8m0EbMQeWnD1IXWRR17TxkwoltApIMEB3jjJRKRYY7E...</td>\n",
       "      <td>80</td>\n",
       "      <td>7</td>\n",
       "      <td>6</td>\n",
       "      <td>False</td>\n",
       "      <td>False</td>\n",
       "      <td>False</td>\n",
       "      <td>True</td>\n",
       "      <td>ZbL41OC4EgevPLDBG4ovAANvDvvyDinVGoPKXRcLCtc5kJ...</td>\n",
       "      <td>X1LJxXc_h1D3opvcb82sSh7MqshyT0em9K3Tauyb5Diw45...</td>\n",
       "      <td>907</td>\n",
       "      <td>1738310268000</td>\n",
       "      <td>31</td>\n",
       "    </tr>\n",
       "  </tbody>\n",
       "</table>\n",
       "</div>"
      ],
      "text/plain": [
       "                               leagueId        queueType  tier rank  \\\n",
       "0  f26c5cb6-bd2d-4200-a242-8df7110fb92d  RANKED_SOLO_5x5  IRON    I   \n",
       "1  87c4c731-1aa1-4d2e-8d35-e08030ba8efb  RANKED_SOLO_5x5  IRON    I   \n",
       "2  d51830f2-4420-4077-a3b2-effaa7105d57  RANKED_SOLO_5x5  IRON    I   \n",
       "3  1df0f655-cf74-4222-8cb7-3e6aef91e83b  RANKED_SOLO_5x5  IRON    I   \n",
       "4  640dcade-2e4f-4387-a1bc-e1ca4b13eb0c  RANKED_SOLO_5x5  IRON    I   \n",
       "\n",
       "                                          summonerId  \\\n",
       "0    kzfWHgI8V_2cJqjjbTB0yZJbgjQvtFS93SKMqH3YJkrU40Y   \n",
       "1  UJkCh2bS4YO7C7dm1Yl4IT7EzziLzdO_TW_R6N8j-pUGXe...   \n",
       "2  Fp6byjg-SRwFMT7PSfbvGwTqrUmLZHZikAsT9RpJ674xu9...   \n",
       "3  Bw1lDX9vJrQxNwdg3XYiF73EA7mZ-sxAHyU6gnBG-4qiz_...   \n",
       "4  ZbL41OC4EgevPLDBG4ovAANvDvvyDinVGoPKXRcLCtc5kJ...   \n",
       "\n",
       "                                               puuid  leaguePoints  wins  \\\n",
       "0  8jGtg9MlbzXYQ5Umf4Y7uMqdRMEzmruPsYll-SxwQoFKQG...            12    34   \n",
       "1  ji4uoQKx3SS0YeMtjxqMc_KUJQOMSJFi81zLnyiozVp0sS...            97     3   \n",
       "2  Dr8ib7fv4pemOqJC-uOKTwVR5fz5Y6l7SZ4hIP4bHurqUZ...            25     7   \n",
       "3  H3_TUJhQZkRyzaE12ro9i0hJIkz5RY3qr_s8qiDtwqczwe...            32    10   \n",
       "4  U-d8m0EbMQeWnD1IXWRR17TxkwoltApIMEB3jjJRKRYY7E...            80     7   \n",
       "\n",
       "   losses  veteran  inactive  freshBlood  hotStreak  \\\n",
       "0      37    False     False       False      False   \n",
       "1       2    False     False       False      False   \n",
       "2       4    False     False       False      False   \n",
       "3      18    False     False       False      False   \n",
       "4       6    False     False       False       True   \n",
       "\n",
       "                                                  id  \\\n",
       "0    kzfWHgI8V_2cJqjjbTB0yZJbgjQvtFS93SKMqH3YJkrU40Y   \n",
       "1  UJkCh2bS4YO7C7dm1Yl4IT7EzziLzdO_TW_R6N8j-pUGXe...   \n",
       "2  Fp6byjg-SRwFMT7PSfbvGwTqrUmLZHZikAsT9RpJ674xu9...   \n",
       "3  Bw1lDX9vJrQxNwdg3XYiF73EA7mZ-sxAHyU6gnBG-4qiz_...   \n",
       "4  ZbL41OC4EgevPLDBG4ovAANvDvvyDinVGoPKXRcLCtc5kJ...   \n",
       "\n",
       "                                           accountId  profileIconId  \\\n",
       "0  icSLs6wHD6MXeiVitcnnkhP-wOAomDL_pmtFMPY5f5ZFpe...           6680   \n",
       "1  WPl57MkrPZy_x60hv4-6D4kNobi7UKzkjPebH_Y_yNcICe...           6502   \n",
       "2  Eo33kaonTf9g83OROj6wF4ipeDxS-axJ5h5uTR_KvWwRa3...           5950   \n",
       "3  BnBYfCwSCb0hUPNb9ikaRgsWfgr0RRTdv-2fPmj7aCI_7r...           3543   \n",
       "4  X1LJxXc_h1D3opvcb82sSh7MqshyT0em9K3Tauyb5Diw45...            907   \n",
       "\n",
       "    revisionDate  summonerLevel  \n",
       "0  1742720089000            195  \n",
       "1  1737559985000             41  \n",
       "2  1742297642000            147  \n",
       "3  1743181417956            123  \n",
       "4  1738310268000             31  "
      ]
     },
     "execution_count": 178,
     "metadata": {},
     "output_type": "execute_result"
    }
   ],
   "source": [
    "summoner_data = pd.merge(player_info_data, summoner_data, how=\"outer\", on=\"puuid\")\n",
    "summoner_data.head()"
   ]
  },
  {
   "cell_type": "markdown",
   "metadata": {},
   "source": [
    "##### 중복 데이터 확인하기"
   ]
  },
  {
   "cell_type": "code",
   "execution_count": 179,
   "metadata": {},
   "outputs": [
    {
     "data": {
      "image/png": "[encoded data removed]",
      "text/plain": [
       "<Figure size 1440x720 with 1 Axes>"
      ]
     },
     "metadata": {
      "needs_background": "light"
     },
     "output_type": "display_data"
    }
   ],
   "source": [
    "duplicated_summoners = summoner_data[summoner_data.duplicated(subset='summonerId', keep=False)]\n",
    "\n",
    "plt.figure(figsize=(20,10))\n",
    "ax = sns.countplot(data=duplicated_summoners, x='tier')\n",
    "\n",
    "result = 0\n",
    "for p in ax.patches:\n",
    "    result += int(p.get_height())\n",
    "    ax.annotate(f'{int(p.get_height())}', \n",
    "                (p.get_x() + p.get_width() / 2, p.get_height()),  \n",
    "                ha='center', \n",
    "                va='bottom',  \n",
    "                fontsize=10, \n",
    "                color='black')  \n",
    "plt.title(f'{result}')\n",
    "plt.show()"
   ]
  },
  {
   "cell_type": "code",
   "execution_count": 180,
   "metadata": {},
   "outputs": [
    {
     "name": "stdout",
     "output_type": "stream",
     "text": [
      "<class 'pandas.core.frame.DataFrame'>\n",
      "Int64Index: 233042 entries, 0 to 233041\n",
      "Data columns (total 18 columns):\n",
      " #   Column         Non-Null Count   Dtype \n",
      "---  ------         --------------   ----- \n",
      " 0   leagueId       233042 non-null  object\n",
      " 1   queueType      233042 non-null  object\n",
      " 2   tier           233042 non-null  object\n",
      " 3   rank           233042 non-null  object\n",
      " 4   summonerId     233042 non-null  object\n",
      " 5   puuid          233042 non-null  object\n",
      " 6   leaguePoints   233042 non-null  int64 \n",
      " 7   wins           233042 non-null  int64 \n",
      " 8   losses         233042 non-null  int64 \n",
      " 9   veteran        233042 non-null  bool  \n",
      " 10  inactive       233042 non-null  bool  \n",
      " 11  freshBlood     233042 non-null  bool  \n",
      " 12  hotStreak      233042 non-null  bool  \n",
      " 13  id             233042 non-null  object\n",
      " 14  accountId      233042 non-null  object\n",
      " 15  profileIconId  233042 non-null  int64 \n",
      " 16  revisionDate   233042 non-null  int64 \n",
      " 17  summonerLevel  233042 non-null  int64 \n",
      "dtypes: bool(4), int64(6), object(8)\n",
      "memory usage: 27.6+ MB\n"
     ]
    }
   ],
   "source": [
    "summoner_data.info()"
   ]
  },
  {
   "cell_type": "markdown",
   "metadata": {},
   "source": [
    "##### na 데이터 drop하기"
   ]
  },
  {
   "cell_type": "code",
   "execution_count": 181,
   "metadata": {},
   "outputs": [
    {
     "data": {
      "text/plain": [
       "0"
      ]
     },
     "execution_count": 181,
     "metadata": {},
     "output_type": "execute_result"
    }
   ],
   "source": [
    "summoner_data['revisionDate'].isna().sum()"
   ]
  },
  {
   "cell_type": "code",
   "execution_count": 184,
   "metadata": {},
   "outputs": [],
   "source": [
    "summoner_data = summoner_data.dropna()"
   ]
  },
  {
   "cell_type": "code",
   "execution_count": 185,
   "metadata": {},
   "outputs": [
    {
     "name": "stdout",
     "output_type": "stream",
     "text": [
      "<class 'pandas.core.frame.DataFrame'>\n",
      "Int64Index: 233042 entries, 0 to 233041\n",
      "Data columns (total 18 columns):\n",
      " #   Column         Non-Null Count   Dtype \n",
      "---  ------         --------------   ----- \n",
      " 0   leagueId       233042 non-null  object\n",
      " 1   queueType      233042 non-null  object\n",
      " 2   tier           233042 non-null  object\n",
      " 3   rank           233042 non-null  object\n",
      " 4   summonerId     233042 non-null  object\n",
      " 5   puuid          233042 non-null  object\n",
      " 6   leaguePoints   233042 non-null  int64 \n",
      " 7   wins           233042 non-null  int64 \n",
      " 8   losses         233042 non-null  int64 \n",
      " 9   veteran        233042 non-null  bool  \n",
      " 10  inactive       233042 non-null  bool  \n",
      " 11  freshBlood     233042 non-null  bool  \n",
      " 12  hotStreak      233042 non-null  bool  \n",
      " 13  id             233042 non-null  object\n",
      " 14  accountId      233042 non-null  object\n",
      " 15  profileIconId  233042 non-null  int64 \n",
      " 16  revisionDate   233042 non-null  int64 \n",
      " 17  summonerLevel  233042 non-null  int64 \n",
      "dtypes: bool(4), int64(6), object(8)\n",
      "memory usage: 27.6+ MB\n"
     ]
    }
   ],
   "source": [
    "# dropna 후\n",
    "summoner_data.info()"
   ]
  },
  {
   "cell_type": "markdown",
   "metadata": {},
   "source": [
    "##### 중복 데이터 drop_duplicates"
   ]
  },
  {
   "cell_type": "code",
   "execution_count": 186,
   "metadata": {},
   "outputs": [],
   "source": [
    "summoner_data = summoner_data.drop_duplicates()"
   ]
  },
  {
   "cell_type": "code",
   "execution_count": 187,
   "metadata": {},
   "outputs": [
    {
     "name": "stdout",
     "output_type": "stream",
     "text": [
      "<class 'pandas.core.frame.DataFrame'>\n",
      "Int64Index: 231412 entries, 0 to 233041\n",
      "Data columns (total 18 columns):\n",
      " #   Column         Non-Null Count   Dtype \n",
      "---  ------         --------------   ----- \n",
      " 0   leagueId       231412 non-null  object\n",
      " 1   queueType      231412 non-null  object\n",
      " 2   tier           231412 non-null  object\n",
      " 3   rank           231412 non-null  object\n",
      " 4   summonerId     231412 non-null  object\n",
      " 5   puuid          231412 non-null  object\n",
      " 6   leaguePoints   231412 non-null  int64 \n",
      " 7   wins           231412 non-null  int64 \n",
      " 8   losses         231412 non-null  int64 \n",
      " 9   veteran        231412 non-null  bool  \n",
      " 10  inactive       231412 non-null  bool  \n",
      " 11  freshBlood     231412 non-null  bool  \n",
      " 12  hotStreak      231412 non-null  bool  \n",
      " 13  id             231412 non-null  object\n",
      " 14  accountId      231412 non-null  object\n",
      " 15  profileIconId  231412 non-null  int64 \n",
      " 16  revisionDate   231412 non-null  int64 \n",
      " 17  summonerLevel  231412 non-null  int64 \n",
      "dtypes: bool(4), int64(6), object(8)\n",
      "memory usage: 27.4+ MB\n"
     ]
    }
   ],
   "source": [
    "summoner_data.info()"
   ]
  },
  {
   "cell_type": "code",
   "execution_count": 189,
   "metadata": {},
   "outputs": [
    {
     "data": {
      "text/plain": [
       "leagueId         0\n",
       "queueType        0\n",
       "tier             0\n",
       "rank             0\n",
       "summonerId       0\n",
       "puuid            0\n",
       "leaguePoints     0\n",
       "wins             0\n",
       "losses           0\n",
       "veteran          0\n",
       "inactive         0\n",
       "freshBlood       0\n",
       "hotStreak        0\n",
       "id               0\n",
       "accountId        0\n",
       "profileIconId    0\n",
       "revisionDate     0\n",
       "summonerLevel    0\n",
       "dtype: int64"
      ]
     },
     "execution_count": 189,
     "metadata": {},
     "output_type": "execute_result"
    }
   ],
   "source": [
    "summoner_data.isna().sum()"
   ]
  },
  {
   "cell_type": "code",
   "execution_count": 190,
   "metadata": {},
   "outputs": [
    {
     "data": {
      "image/png": "[encoded data removed]",
      "text/plain": [
       "<Figure size 1440x720 with 1 Axes>"
      ]
     },
     "metadata": {
      "needs_background": "light"
     },
     "output_type": "display_data"
    }
   ],
   "source": [
    "tier_order=['IRON','BRONZE','SILVER','GOLD','PLATINUM','EMERALD','DIAMOND','MASTER','GRANDMASTER','CHALLENGER']\n",
    "\n",
    "plt.figure(figsize=(20,10))\n",
    "ax = sns.countplot(data=summoner_data, x='tier', order=tier_order, hue_order=tier_order)\n",
    "\n",
    "for p in ax.patches:\n",
    "    ax.annotate(f'{int(p.get_height())}', \n",
    "                (p.get_x() + p.get_width() / 2, p.get_height()),  \n",
    "                ha='center', \n",
    "                va='bottom',  \n",
    "                fontsize=10, \n",
    "                color='black')  \n",
    "plt.title('Player Distribution')\n",
    "plt.show()"
   ]
  },
  {
   "cell_type": "code",
   "execution_count": 199,
   "metadata": {},
   "outputs": [
    {
     "name": "stdout",
     "output_type": "stream",
     "text": [
      "<class 'pandas.core.frame.DataFrame'>\n",
      "Int64Index: 0 entries\n",
      "Data columns (total 18 columns):\n",
      " #   Column         Non-Null Count  Dtype \n",
      "---  ------         --------------  ----- \n",
      " 0   leagueId       0 non-null      object\n",
      " 1   queueType      0 non-null      object\n",
      " 2   tier           0 non-null      object\n",
      " 3   rank           0 non-null      object\n",
      " 4   summonerId     0 non-null      object\n",
      " 5   puuid          0 non-null      object\n",
      " 6   leaguePoints   0 non-null      int64 \n",
      " 7   wins           0 non-null      int64 \n",
      " 8   losses         0 non-null      int64 \n",
      " 9   veteran        0 non-null      bool  \n",
      " 10  inactive       0 non-null      bool  \n",
      " 11  freshBlood     0 non-null      bool  \n",
      " 12  hotStreak      0 non-null      bool  \n",
      " 13  id             0 non-null      object\n",
      " 14  accountId      0 non-null      object\n",
      " 15  profileIconId  0 non-null      int64 \n",
      " 16  revisionDate   0 non-null      int64 \n",
      " 17  summonerLevel  0 non-null      int64 \n",
      "dtypes: bool(4), int64(6), object(8)\n",
      "memory usage: 0.0+ bytes\n"
     ]
    }
   ],
   "source": [
    "df = summoner_data[summoner_data['tier']=='SILVER']\n",
    "v = df[df['veteran']==True]\n",
    "v.info()"
   ]
  },
  {
   "cell_type": "code",
   "execution_count": null,
   "metadata": {},
   "outputs": [
    {
     "data": {
      "image/png": "[encoded data removed]",
      "text/plain": [
       "<Figure size 720x432 with 1 Axes>"
      ]
     },
     "metadata": {
      "needs_background": "light"
     },
     "output_type": "display_data"
    }
   ],
   "source": [
    "veteran_player = summoner_data[summoner_data['veteran']==True]\n",
    "# tier_order=['IRON','BRONZE','SILVER','GOLD','PLATINUM','EMERALD','DIAMOND','MASTER','GRANDMASTER','CHALLENGER'] # gold, silver, PLATINUM\n",
    "\n",
    "plt.figure(figsize=(10, 6))\n",
    "ax = sns.countplot(data=veteran_player, x='tier')\n",
    "\n",
    "for p in ax.patches:\n",
    "    ax.annotate(f'{int(p.get_height())}', \n",
    "        (p.get_x() + p.get_width() / 2, p.get_height()),  \n",
    "        ha='center', \n",
    "        va='bottom',  \n",
    "        fontsize=10, \n",
    "        color='black') \n",
    "\n",
    "plt.title(\"베테랑 Player의 Tier 분포\")\n",
    "plt.show()"
   ]
  },
  {
   "cell_type": "code",
   "execution_count": null,
   "metadata": {},
   "outputs": [],
   "source": []
  }
 ],
 "metadata": {
  "kernelspec": {
   "display_name": "base",
   "language": "python",
   "name": "python3"
  },
  "language_info": {
   "codemirror_mode": {
    "name": "ipython",
    "version": 3
   },
   "file_extension": ".py",
   "mimetype": "text/x-python",
   "name": "python",
   "nbconvert_exporter": "python",
   "pygments_lexer": "ipython3",
   "version": "3.8.5"
  }
 },
 "nbformat": 4,
 "nbformat_minor": 2
}
